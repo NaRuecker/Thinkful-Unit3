{
 "cells": [
  {
   "cell_type": "code",
   "execution_count": 1,
   "metadata": {
    "run_control": {
     "frozen": false,
     "read_only": false
    }
   },
   "outputs": [],
   "source": [
    "import pandas as pd\n",
    "import numpy as np\n",
    "import matplotlib.pyplot as plt\n",
    "%matplotlib inline\n",
    "import seaborn as sns"
   ]
  },
  {
   "cell_type": "markdown",
   "metadata": {
    "run_control": {
     "frozen": false,
     "read_only": false
    }
   },
   "source": [
    "We've talked about Random Forests. Now it's time to build one.\n",
    "\n",
    "Here we'll use data from Lending Club to predict the state of a loan given some information about it. You can find the dataset [here](https://www.lendingclub.com/info/download-data.action). We'll use 2015 data. ([Thinkful mirror](https://www.dropbox.com/s/m7z42lubaiory33/LoanStats3d.csv?dl=0))"
   ]
  },
  {
   "cell_type": "code",
   "execution_count": 2,
   "metadata": {
    "run_control": {
     "frozen": false,
     "read_only": false
    }
   },
   "outputs": [
    {
     "name": "stderr",
     "output_type": "stream",
     "text": [
      "C:\\Users\\Ruecker-PC\\Anaconda3\\lib\\site-packages\\IPython\\core\\interactiveshell.py:2785: DtypeWarning: Columns (0,19,55) have mixed types. Specify dtype option on import or set low_memory=False.\n",
      "  interactivity=interactivity, compiler=compiler, result=result)\n"
     ]
    }
   ],
   "source": [
    "# Replace the path with the correct path for your data.\n",
    "y2015 = pd.read_csv(\n",
    "    'LoanStats3d.csv',\n",
    "    skipinitialspace=True,\n",
    "    header=1\n",
    ")\n",
    "\n",
    "# Note the warning about dtypes."
   ]
  },
  {
   "cell_type": "code",
   "execution_count": 3,
   "metadata": {},
   "outputs": [
    {
     "data": {
      "text/html": [
       "<div>\n",
       "<style scoped>\n",
       "    .dataframe tbody tr th:only-of-type {\n",
       "        vertical-align: middle;\n",
       "    }\n",
       "\n",
       "    .dataframe tbody tr th {\n",
       "        vertical-align: top;\n",
       "    }\n",
       "\n",
       "    .dataframe thead th {\n",
       "        text-align: right;\n",
       "    }\n",
       "</style>\n",
       "<table border=\"1\" class=\"dataframe\">\n",
       "  <thead>\n",
       "    <tr style=\"text-align: right;\">\n",
       "      <th></th>\n",
       "      <th>id</th>\n",
       "      <th>member_id</th>\n",
       "      <th>loan_amnt</th>\n",
       "      <th>funded_amnt</th>\n",
       "      <th>funded_amnt_inv</th>\n",
       "      <th>term</th>\n",
       "      <th>int_rate</th>\n",
       "      <th>installment</th>\n",
       "      <th>grade</th>\n",
       "      <th>sub_grade</th>\n",
       "      <th>...</th>\n",
       "      <th>num_tl_90g_dpd_24m</th>\n",
       "      <th>num_tl_op_past_12m</th>\n",
       "      <th>pct_tl_nvr_dlq</th>\n",
       "      <th>percent_bc_gt_75</th>\n",
       "      <th>pub_rec_bankruptcies</th>\n",
       "      <th>tax_liens</th>\n",
       "      <th>tot_hi_cred_lim</th>\n",
       "      <th>total_bal_ex_mort</th>\n",
       "      <th>total_bc_limit</th>\n",
       "      <th>total_il_high_credit_limit</th>\n",
       "    </tr>\n",
       "  </thead>\n",
       "  <tbody>\n",
       "    <tr>\n",
       "      <th>0</th>\n",
       "      <td>68009401</td>\n",
       "      <td>72868139.0</td>\n",
       "      <td>16000.0</td>\n",
       "      <td>16000.0</td>\n",
       "      <td>16000.0</td>\n",
       "      <td>60 months</td>\n",
       "      <td>14.85%</td>\n",
       "      <td>379.39</td>\n",
       "      <td>C</td>\n",
       "      <td>C5</td>\n",
       "      <td>...</td>\n",
       "      <td>0.0</td>\n",
       "      <td>2.0</td>\n",
       "      <td>78.9</td>\n",
       "      <td>0.0</td>\n",
       "      <td>0.0</td>\n",
       "      <td>2.0</td>\n",
       "      <td>298100.0</td>\n",
       "      <td>31329.0</td>\n",
       "      <td>281300.0</td>\n",
       "      <td>13400.0</td>\n",
       "    </tr>\n",
       "    <tr>\n",
       "      <th>1</th>\n",
       "      <td>68354783</td>\n",
       "      <td>73244544.0</td>\n",
       "      <td>9600.0</td>\n",
       "      <td>9600.0</td>\n",
       "      <td>9600.0</td>\n",
       "      <td>36 months</td>\n",
       "      <td>7.49%</td>\n",
       "      <td>298.58</td>\n",
       "      <td>A</td>\n",
       "      <td>A4</td>\n",
       "      <td>...</td>\n",
       "      <td>0.0</td>\n",
       "      <td>2.0</td>\n",
       "      <td>100.0</td>\n",
       "      <td>66.7</td>\n",
       "      <td>0.0</td>\n",
       "      <td>0.0</td>\n",
       "      <td>88635.0</td>\n",
       "      <td>55387.0</td>\n",
       "      <td>12500.0</td>\n",
       "      <td>75635.0</td>\n",
       "    </tr>\n",
       "    <tr>\n",
       "      <th>2</th>\n",
       "      <td>68466916</td>\n",
       "      <td>73356753.0</td>\n",
       "      <td>25000.0</td>\n",
       "      <td>25000.0</td>\n",
       "      <td>25000.0</td>\n",
       "      <td>36 months</td>\n",
       "      <td>7.49%</td>\n",
       "      <td>777.55</td>\n",
       "      <td>A</td>\n",
       "      <td>A4</td>\n",
       "      <td>...</td>\n",
       "      <td>0.0</td>\n",
       "      <td>0.0</td>\n",
       "      <td>100.0</td>\n",
       "      <td>20.0</td>\n",
       "      <td>0.0</td>\n",
       "      <td>0.0</td>\n",
       "      <td>373572.0</td>\n",
       "      <td>68056.0</td>\n",
       "      <td>38400.0</td>\n",
       "      <td>82117.0</td>\n",
       "    </tr>\n",
       "    <tr>\n",
       "      <th>3</th>\n",
       "      <td>68466961</td>\n",
       "      <td>73356799.0</td>\n",
       "      <td>28000.0</td>\n",
       "      <td>28000.0</td>\n",
       "      <td>28000.0</td>\n",
       "      <td>36 months</td>\n",
       "      <td>6.49%</td>\n",
       "      <td>858.05</td>\n",
       "      <td>A</td>\n",
       "      <td>A2</td>\n",
       "      <td>...</td>\n",
       "      <td>0.0</td>\n",
       "      <td>0.0</td>\n",
       "      <td>91.7</td>\n",
       "      <td>22.2</td>\n",
       "      <td>0.0</td>\n",
       "      <td>0.0</td>\n",
       "      <td>304003.0</td>\n",
       "      <td>74920.0</td>\n",
       "      <td>41500.0</td>\n",
       "      <td>42503.0</td>\n",
       "    </tr>\n",
       "    <tr>\n",
       "      <th>4</th>\n",
       "      <td>68495092</td>\n",
       "      <td>73384866.0</td>\n",
       "      <td>8650.0</td>\n",
       "      <td>8650.0</td>\n",
       "      <td>8650.0</td>\n",
       "      <td>36 months</td>\n",
       "      <td>19.89%</td>\n",
       "      <td>320.99</td>\n",
       "      <td>E</td>\n",
       "      <td>E3</td>\n",
       "      <td>...</td>\n",
       "      <td>0.0</td>\n",
       "      <td>12.0</td>\n",
       "      <td>100.0</td>\n",
       "      <td>50.0</td>\n",
       "      <td>1.0</td>\n",
       "      <td>0.0</td>\n",
       "      <td>38998.0</td>\n",
       "      <td>18926.0</td>\n",
       "      <td>2750.0</td>\n",
       "      <td>18248.0</td>\n",
       "    </tr>\n",
       "  </tbody>\n",
       "</table>\n",
       "<p>5 rows × 111 columns</p>\n",
       "</div>"
      ],
      "text/plain": [
       "         id   member_id  loan_amnt  funded_amnt  funded_amnt_inv        term  \\\n",
       "0  68009401  72868139.0    16000.0      16000.0          16000.0   60 months   \n",
       "1  68354783  73244544.0     9600.0       9600.0           9600.0   36 months   \n",
       "2  68466916  73356753.0    25000.0      25000.0          25000.0   36 months   \n",
       "3  68466961  73356799.0    28000.0      28000.0          28000.0   36 months   \n",
       "4  68495092  73384866.0     8650.0       8650.0           8650.0   36 months   \n",
       "\n",
       "  int_rate  installment grade sub_grade            ...              \\\n",
       "0   14.85%       379.39     C        C5            ...               \n",
       "1    7.49%       298.58     A        A4            ...               \n",
       "2    7.49%       777.55     A        A4            ...               \n",
       "3    6.49%       858.05     A        A2            ...               \n",
       "4   19.89%       320.99     E        E3            ...               \n",
       "\n",
       "  num_tl_90g_dpd_24m num_tl_op_past_12m pct_tl_nvr_dlq  percent_bc_gt_75  \\\n",
       "0                0.0                2.0           78.9               0.0   \n",
       "1                0.0                2.0          100.0              66.7   \n",
       "2                0.0                0.0          100.0              20.0   \n",
       "3                0.0                0.0           91.7              22.2   \n",
       "4                0.0               12.0          100.0              50.0   \n",
       "\n",
       "  pub_rec_bankruptcies tax_liens tot_hi_cred_lim total_bal_ex_mort  \\\n",
       "0                  0.0       2.0        298100.0           31329.0   \n",
       "1                  0.0       0.0         88635.0           55387.0   \n",
       "2                  0.0       0.0        373572.0           68056.0   \n",
       "3                  0.0       0.0        304003.0           74920.0   \n",
       "4                  1.0       0.0         38998.0           18926.0   \n",
       "\n",
       "  total_bc_limit total_il_high_credit_limit  \n",
       "0       281300.0                    13400.0  \n",
       "1        12500.0                    75635.0  \n",
       "2        38400.0                    82117.0  \n",
       "3        41500.0                    42503.0  \n",
       "4         2750.0                    18248.0  \n",
       "\n",
       "[5 rows x 111 columns]"
      ]
     },
     "execution_count": 3,
     "metadata": {},
     "output_type": "execute_result"
    }
   ],
   "source": [
    "y2015.head()"
   ]
  },
  {
   "cell_type": "markdown",
   "metadata": {
    "run_control": {
     "frozen": false,
     "read_only": false
    }
   },
   "source": [
    "## The Blind Approach\n",
    "\n",
    "Now, as we've seen before, creating a model is the easy part. Let's try just using everything we've got and throwing it without much thought into a Random Forest. SKLearn requires the independent variables to be be numeric, and all we want is dummy variables so let's use `get_dummies` from Pandas to generate a dummy variable for every categorical colummn and see what happens off of this kind of naive approach."
   ]
  },
  {
   "cell_type": "code",
   "execution_count": 4,
   "metadata": {
    "run_control": {
     "frozen": false,
     "read_only": false
    }
   },
   "outputs": [],
   "source": [
    "from sklearn import ensemble\n",
    "from sklearn.model_selection import cross_val_score\n",
    "\n",
    "rfc = ensemble.RandomForestClassifier()\n",
    "X = y2015.drop('loan_status', 1)\n",
    "Y = y2015['loan_status']\n",
    "#X = pd.get_dummies(X)\n",
    "\n",
    "#cross_val_score(rfc, X, Y, cv=5)"
   ]
  },
  {
   "cell_type": "markdown",
   "metadata": {
    "run_control": {
     "frozen": false,
     "read_only": false
    }
   },
   "source": [
    "Did your kernel die? My kernel died.\n",
    "\n",
    "Guess it isn't always going to be that easy...\n",
    "\n",
    "Can you think of what went wrong?\n",
    "\n",
    "(You're going to have to reset your kernel and reload the column, BUT DON'T RUN THE MODEL AGAIN OR YOU'LL CRASH THE KERNEL AGAIN!)\n",
    "\n",
    "## Data Cleaning\n",
    "\n",
    "Well, `get_dummies` can be a very memory intensive thing, particularly if data are typed poorly. We got a warning about that earlier. Mixed data types get converted to objects, and that could create huge problems. Our dataset is about 400,000 rows. If there's a bad type there its going to see 400,000 distinct values and try to create dummies for all of them. That's bad. Lets look at all our categorical variables and see how many distinct counts there are..."
   ]
  },
  {
   "cell_type": "code",
   "execution_count": 5,
   "metadata": {
    "run_control": {
     "frozen": false,
     "read_only": false
    },
    "scrolled": true
   },
   "outputs": [
    {
     "name": "stdout",
     "output_type": "stream",
     "text": [
      "id\n",
      "421097\n",
      "term\n",
      "2\n",
      "int_rate\n",
      "110\n",
      "grade\n",
      "7\n",
      "sub_grade\n",
      "35\n",
      "emp_title\n",
      "120812\n",
      "emp_length\n",
      "11\n",
      "home_ownership\n",
      "4\n",
      "verification_status\n",
      "3\n",
      "issue_d\n",
      "12\n",
      "loan_status\n",
      "7\n",
      "pymnt_plan\n",
      "1\n",
      "url\n",
      "421095\n",
      "desc\n",
      "34\n",
      "purpose\n",
      "14\n",
      "title\n",
      "27\n",
      "zip_code\n",
      "914\n",
      "addr_state\n",
      "49\n",
      "earliest_cr_line\n",
      "668\n",
      "revol_util\n",
      "1211\n",
      "initial_list_status\n",
      "2\n",
      "last_pymnt_d\n",
      "25\n",
      "next_pymnt_d\n",
      "4\n",
      "last_credit_pull_d\n",
      "26\n",
      "application_type\n",
      "2\n",
      "verification_status_joint\n",
      "3\n"
     ]
    }
   ],
   "source": [
    "categorical = y2015.select_dtypes(include=['object'])\n",
    "for i in categorical:\n",
    "    column = categorical[i]\n",
    "    print(i)\n",
    "    print(column.nunique())"
   ]
  },
  {
   "cell_type": "markdown",
   "metadata": {
    "run_control": {
     "frozen": false,
     "read_only": false
    }
   },
   "source": [
    "Well that right there is what's called a problem. Some of these have over a hundred thousand distinct types. Lets drop the ones with over 30 unique values, converting to numeric where it makes sense. In doing this there's a lot of code that gets written to just see if the numeric conversion makes sense. It's a manual process that we'll abstract away and just include the conversion.\n",
    "\n",
    "You could extract numeric features from the dates, but here we'll just drop them. There's a lot of data, it shouldn't be a huge problem."
   ]
  },
  {
   "cell_type": "code",
   "execution_count": 6,
   "metadata": {
    "run_control": {
     "frozen": false,
     "read_only": false
    }
   },
   "outputs": [],
   "source": [
    "# Convert ID and Interest Rate to numeric.\n",
    "y2015['id'] = pd.to_numeric(y2015['id'], errors='coerce')\n",
    "y2015['int_rate'] = pd.to_numeric(y2015['int_rate'].str.strip('%'), errors='coerce')\n",
    "\n",
    "# Drop other columns with many unique variables\n",
    "y2015.drop(['url', 'emp_title', 'zip_code', 'earliest_cr_line', 'revol_util',\n",
    "            'sub_grade', 'addr_state', 'desc'], 1, inplace=True)"
   ]
  },
  {
   "cell_type": "markdown",
   "metadata": {},
   "source": [
    "Wonder what was causing the dtype error on the id column, which _should_ have all been integers? Let's look at the end of the file."
   ]
  },
  {
   "cell_type": "code",
   "execution_count": 7,
   "metadata": {},
   "outputs": [
    {
     "data": {
      "text/html": [
       "<div>\n",
       "<style scoped>\n",
       "    .dataframe tbody tr th:only-of-type {\n",
       "        vertical-align: middle;\n",
       "    }\n",
       "\n",
       "    .dataframe tbody tr th {\n",
       "        vertical-align: top;\n",
       "    }\n",
       "\n",
       "    .dataframe thead th {\n",
       "        text-align: right;\n",
       "    }\n",
       "</style>\n",
       "<table border=\"1\" class=\"dataframe\">\n",
       "  <thead>\n",
       "    <tr style=\"text-align: right;\">\n",
       "      <th></th>\n",
       "      <th>id</th>\n",
       "      <th>member_id</th>\n",
       "      <th>loan_amnt</th>\n",
       "      <th>funded_amnt</th>\n",
       "      <th>funded_amnt_inv</th>\n",
       "      <th>term</th>\n",
       "      <th>int_rate</th>\n",
       "      <th>installment</th>\n",
       "      <th>grade</th>\n",
       "      <th>emp_length</th>\n",
       "      <th>...</th>\n",
       "      <th>num_tl_90g_dpd_24m</th>\n",
       "      <th>num_tl_op_past_12m</th>\n",
       "      <th>pct_tl_nvr_dlq</th>\n",
       "      <th>percent_bc_gt_75</th>\n",
       "      <th>pub_rec_bankruptcies</th>\n",
       "      <th>tax_liens</th>\n",
       "      <th>tot_hi_cred_lim</th>\n",
       "      <th>total_bal_ex_mort</th>\n",
       "      <th>total_bc_limit</th>\n",
       "      <th>total_il_high_credit_limit</th>\n",
       "    </tr>\n",
       "  </thead>\n",
       "  <tbody>\n",
       "    <tr>\n",
       "      <th>421092</th>\n",
       "      <td>36271333.0</td>\n",
       "      <td>38982739.0</td>\n",
       "      <td>13000.0</td>\n",
       "      <td>13000.0</td>\n",
       "      <td>13000.0</td>\n",
       "      <td>60 months</td>\n",
       "      <td>15.99</td>\n",
       "      <td>316.07</td>\n",
       "      <td>D</td>\n",
       "      <td>5 years</td>\n",
       "      <td>...</td>\n",
       "      <td>0.0</td>\n",
       "      <td>3.0</td>\n",
       "      <td>100.0</td>\n",
       "      <td>50.0</td>\n",
       "      <td>1.0</td>\n",
       "      <td>0.0</td>\n",
       "      <td>51239.0</td>\n",
       "      <td>34178.0</td>\n",
       "      <td>10600.0</td>\n",
       "      <td>33239.0</td>\n",
       "    </tr>\n",
       "    <tr>\n",
       "      <th>421093</th>\n",
       "      <td>36490806.0</td>\n",
       "      <td>39222577.0</td>\n",
       "      <td>12000.0</td>\n",
       "      <td>12000.0</td>\n",
       "      <td>12000.0</td>\n",
       "      <td>60 months</td>\n",
       "      <td>19.99</td>\n",
       "      <td>317.86</td>\n",
       "      <td>E</td>\n",
       "      <td>1 year</td>\n",
       "      <td>...</td>\n",
       "      <td>1.0</td>\n",
       "      <td>2.0</td>\n",
       "      <td>95.0</td>\n",
       "      <td>66.7</td>\n",
       "      <td>0.0</td>\n",
       "      <td>0.0</td>\n",
       "      <td>96919.0</td>\n",
       "      <td>58418.0</td>\n",
       "      <td>9700.0</td>\n",
       "      <td>69919.0</td>\n",
       "    </tr>\n",
       "    <tr>\n",
       "      <th>421094</th>\n",
       "      <td>36271262.0</td>\n",
       "      <td>38982659.0</td>\n",
       "      <td>20000.0</td>\n",
       "      <td>20000.0</td>\n",
       "      <td>20000.0</td>\n",
       "      <td>36 months</td>\n",
       "      <td>11.99</td>\n",
       "      <td>664.20</td>\n",
       "      <td>B</td>\n",
       "      <td>10+ years</td>\n",
       "      <td>...</td>\n",
       "      <td>0.0</td>\n",
       "      <td>1.0</td>\n",
       "      <td>100.0</td>\n",
       "      <td>50.0</td>\n",
       "      <td>0.0</td>\n",
       "      <td>1.0</td>\n",
       "      <td>43740.0</td>\n",
       "      <td>33307.0</td>\n",
       "      <td>41700.0</td>\n",
       "      <td>0.0</td>\n",
       "    </tr>\n",
       "    <tr>\n",
       "      <th>421095</th>\n",
       "      <td>NaN</td>\n",
       "      <td>NaN</td>\n",
       "      <td>NaN</td>\n",
       "      <td>NaN</td>\n",
       "      <td>NaN</td>\n",
       "      <td>NaN</td>\n",
       "      <td>NaN</td>\n",
       "      <td>NaN</td>\n",
       "      <td>NaN</td>\n",
       "      <td>NaN</td>\n",
       "      <td>...</td>\n",
       "      <td>NaN</td>\n",
       "      <td>NaN</td>\n",
       "      <td>NaN</td>\n",
       "      <td>NaN</td>\n",
       "      <td>NaN</td>\n",
       "      <td>NaN</td>\n",
       "      <td>NaN</td>\n",
       "      <td>NaN</td>\n",
       "      <td>NaN</td>\n",
       "      <td>NaN</td>\n",
       "    </tr>\n",
       "    <tr>\n",
       "      <th>421096</th>\n",
       "      <td>NaN</td>\n",
       "      <td>NaN</td>\n",
       "      <td>NaN</td>\n",
       "      <td>NaN</td>\n",
       "      <td>NaN</td>\n",
       "      <td>NaN</td>\n",
       "      <td>NaN</td>\n",
       "      <td>NaN</td>\n",
       "      <td>NaN</td>\n",
       "      <td>NaN</td>\n",
       "      <td>...</td>\n",
       "      <td>NaN</td>\n",
       "      <td>NaN</td>\n",
       "      <td>NaN</td>\n",
       "      <td>NaN</td>\n",
       "      <td>NaN</td>\n",
       "      <td>NaN</td>\n",
       "      <td>NaN</td>\n",
       "      <td>NaN</td>\n",
       "      <td>NaN</td>\n",
       "      <td>NaN</td>\n",
       "    </tr>\n",
       "  </tbody>\n",
       "</table>\n",
       "<p>5 rows × 103 columns</p>\n",
       "</div>"
      ],
      "text/plain": [
       "                id   member_id  loan_amnt  funded_amnt  funded_amnt_inv  \\\n",
       "421092  36271333.0  38982739.0    13000.0      13000.0          13000.0   \n",
       "421093  36490806.0  39222577.0    12000.0      12000.0          12000.0   \n",
       "421094  36271262.0  38982659.0    20000.0      20000.0          20000.0   \n",
       "421095         NaN         NaN        NaN          NaN              NaN   \n",
       "421096         NaN         NaN        NaN          NaN              NaN   \n",
       "\n",
       "              term  int_rate  installment grade emp_length  \\\n",
       "421092   60 months     15.99       316.07     D    5 years   \n",
       "421093   60 months     19.99       317.86     E     1 year   \n",
       "421094   36 months     11.99       664.20     B  10+ years   \n",
       "421095         NaN       NaN          NaN   NaN        NaN   \n",
       "421096         NaN       NaN          NaN   NaN        NaN   \n",
       "\n",
       "                   ...             num_tl_90g_dpd_24m  num_tl_op_past_12m  \\\n",
       "421092             ...                            0.0                 3.0   \n",
       "421093             ...                            1.0                 2.0   \n",
       "421094             ...                            0.0                 1.0   \n",
       "421095             ...                            NaN                 NaN   \n",
       "421096             ...                            NaN                 NaN   \n",
       "\n",
       "       pct_tl_nvr_dlq percent_bc_gt_75 pub_rec_bankruptcies tax_liens  \\\n",
       "421092          100.0             50.0                  1.0       0.0   \n",
       "421093           95.0             66.7                  0.0       0.0   \n",
       "421094          100.0             50.0                  0.0       1.0   \n",
       "421095            NaN              NaN                  NaN       NaN   \n",
       "421096            NaN              NaN                  NaN       NaN   \n",
       "\n",
       "       tot_hi_cred_lim total_bal_ex_mort  total_bc_limit  \\\n",
       "421092         51239.0           34178.0         10600.0   \n",
       "421093         96919.0           58418.0          9700.0   \n",
       "421094         43740.0           33307.0         41700.0   \n",
       "421095             NaN               NaN             NaN   \n",
       "421096             NaN               NaN             NaN   \n",
       "\n",
       "        total_il_high_credit_limit  \n",
       "421092                     33239.0  \n",
       "421093                     69919.0  \n",
       "421094                         0.0  \n",
       "421095                         NaN  \n",
       "421096                         NaN  \n",
       "\n",
       "[5 rows x 103 columns]"
      ]
     },
     "execution_count": 7,
     "metadata": {},
     "output_type": "execute_result"
    }
   ],
   "source": [
    "y2015.tail()"
   ]
  },
  {
   "cell_type": "code",
   "execution_count": 8,
   "metadata": {},
   "outputs": [
    {
     "data": {
      "text/plain": [
       "(421095, 103)"
      ]
     },
     "execution_count": 8,
     "metadata": {},
     "output_type": "execute_result"
    }
   ],
   "source": [
    "# Remove two summary rows at the end that don't actually contain data.\n",
    "y2015 = y2015[:-2]\n",
    "y2015.shape"
   ]
  },
  {
   "cell_type": "markdown",
   "metadata": {
    "run_control": {
     "frozen": false,
     "read_only": false
    }
   },
   "source": [
    "Now this should be better. Let's try again."
   ]
  },
  {
   "cell_type": "code",
   "execution_count": 9,
   "metadata": {
    "run_control": {
     "frozen": false,
     "read_only": false
    }
   },
   "outputs": [
    {
     "data": {
      "text/plain": [
       "(421095, 237)"
      ]
     },
     "execution_count": 9,
     "metadata": {},
     "output_type": "execute_result"
    }
   ],
   "source": [
    "dummies=pd.get_dummies(y2015) # get_dummies converts categorical features into numerics\n",
    "dummies.shape\n"
   ]
  },
  {
   "cell_type": "markdown",
   "metadata": {
    "run_control": {
     "frozen": false,
     "read_only": false
    }
   },
   "source": [
    "It finally works! We had to sacrifice sub grade, state address and description, but that's fine. If you want to include them you could run the dummies independently and then append them back to the dataframe.\n",
    "\n",
    "## Second Attempt\n",
    "\n",
    "Now let's try this model again.\n",
    "\n",
    "We're also going to drop NA columns, rather than impute, because our data is rich enough that we can probably get away with it.\n",
    "\n",
    "This model may take a few minutes to run."
   ]
  },
  {
   "cell_type": "code",
   "execution_count": 10,
   "metadata": {
    "run_control": {
     "frozen": false,
     "read_only": false
    }
   },
   "outputs": [
    {
     "name": "stdout",
     "output_type": "stream",
     "text": [
      "X: <class 'pandas.core.frame.DataFrame'>            id   member_id  loan_amnt  funded_amnt  funded_amnt_inv  int_rate  \\\n",
      "0  68009401.0  72868139.0    16000.0      16000.0          16000.0     14.85   \n",
      "1  68354783.0  73244544.0     9600.0       9600.0           9600.0      7.49   \n",
      "2  68466916.0  73356753.0    25000.0      25000.0          25000.0      7.49   \n",
      "3  68466961.0  73356799.0    28000.0      28000.0          28000.0      6.49   \n",
      "4  68495092.0  73384866.0     8650.0       8650.0           8650.0     19.89   \n",
      "\n",
      "   installment  annual_inc    dti  delinq_2yrs  \\\n",
      "0       379.39     48000.0  33.18          0.0   \n",
      "1       298.58     60000.0  22.44          0.0   \n",
      "2       777.55    109000.0  26.02          0.0   \n",
      "3       858.05     92000.0  21.60          0.0   \n",
      "4       320.99     55000.0  25.49          0.0   \n",
      "\n",
      "                  ...                  last_credit_pull_d_Nov-2016  \\\n",
      "0                 ...                                            0   \n",
      "1                 ...                                            0   \n",
      "2                 ...                                            0   \n",
      "3                 ...                                            0   \n",
      "4                 ...                                            0   \n",
      "\n",
      "   last_credit_pull_d_Oct-2015  last_credit_pull_d_Oct-2016  \\\n",
      "0                            0                            0   \n",
      "1                            0                            0   \n",
      "2                            0                            0   \n",
      "3                            0                            0   \n",
      "4                            0                            0   \n",
      "\n",
      "   last_credit_pull_d_Sep-2015  last_credit_pull_d_Sep-2016  \\\n",
      "0                            0                            0   \n",
      "1                            0                            0   \n",
      "2                            0                            0   \n",
      "3                            0                            0   \n",
      "4                            0                            0   \n",
      "\n",
      "   application_type_INDIVIDUAL  application_type_JOINT  \\\n",
      "0                            1                       0   \n",
      "1                            1                       0   \n",
      "2                            1                       0   \n",
      "3                            1                       0   \n",
      "4                            1                       0   \n",
      "\n",
      "   verification_status_joint_Not Verified  \\\n",
      "0                                       0   \n",
      "1                                       0   \n",
      "2                                       0   \n",
      "3                                       0   \n",
      "4                                       0   \n",
      "\n",
      "   verification_status_joint_Source Verified  \\\n",
      "0                                          0   \n",
      "1                                          0   \n",
      "2                                          0   \n",
      "3                                          0   \n",
      "4                                          0   \n",
      "\n",
      "   verification_status_joint_Verified  \n",
      "0                                   0  \n",
      "1                                   0  \n",
      "2                                   0  \n",
      "3                                   0  \n",
      "4                                   0  \n",
      "\n",
      "[5 rows x 201 columns]\n",
      "Y: <class 'pandas.core.series.Series'> 0       Current\n",
      "1       Current\n",
      "2    Fully Paid\n",
      "3       Current\n",
      "4    Fully Paid\n",
      "Name: loan_status, dtype: object\n"
     ]
    }
   ],
   "source": [
    "from sklearn import ensemble\n",
    "from sklearn.model_selection import cross_val_score\n",
    "\n",
    "rfc = ensemble.RandomForestClassifier()\n",
    "X = y2015.drop('loan_status', 1)\n",
    "Y = y2015['loan_status']\n",
    "X = pd.get_dummies(X)\n",
    "X = X.dropna(axis=1)\n",
    "\n",
    "print(\"X:\",type(X),X.head())\n",
    "print(\"Y:\",type(Y),Y.head())\n",
    "\n",
    "#cross_val_score(rfc, X, Y, cv=10)"
   ]
  },
  {
   "cell_type": "markdown",
   "metadata": {
    "run_control": {
     "frozen": false,
     "read_only": false
    }
   },
   "source": [
    "The score cross validation reports is the accuracy of the tree. Here we're about 98% accurate.\n",
    "\n",
    "That works pretty well, but there are a few potential problems. Firstly, we didn't really do much in the way of feature selection or model refinement. As such there are a lot of features in there that we don't really need. Some of them are actually quite impressively useless.\n",
    "\n",
    "There's also some variance in the scores. The fact that one gave us only 93% accuracy while others gave higher than 98 is concerning. This variance could be corrected by increasing the number of estimators. That will make it take even longer to run, however, and it is already quite slow."
   ]
  },
  {
   "cell_type": "markdown",
   "metadata": {},
   "source": [
    "## DRILL: Third Attempt\n",
    "\n",
    "So here's your task. Get rid of as much data as possible without dropping below an average of 90% accuracy in a 10-fold cross validation.\n",
    "\n",
    "You'll want to do a few things in this process. First, dive into the data that we have and see which features are most important. This can be the raw features or the generated dummies. You may want to use PCA or correlation matrices.\n",
    "\n",
    "Can you do it without using anything related to payment amount or outstanding principal? How do you know\n",
    "\n",
    "### RFC - when missing data is removed"
   ]
  },
  {
   "cell_type": "code",
   "execution_count": 11,
   "metadata": {},
   "outputs": [
    {
     "name": "stdout",
     "output_type": "stream",
     "text": [
      "Unique of features: ['Current' 'Fully Paid' 'Charged Off' 'Late (31-120 days)'\n",
      " 'In Grace Period' 'Default' 'Late (16-30 days)']\n",
      "Sum of missing datapoints for loan_status 0\n"
     ]
    }
   ],
   "source": [
    "# How much data is missing in the target column\n",
    "print('Unique of features:', y2015['loan_status'].unique())\n",
    "print('Sum of missing datapoints for loan_status', y2015['loan_status'].isnull().sum())"
   ]
  },
  {
   "cell_type": "markdown",
   "metadata": {},
   "source": [
    "No data is missing in the target column. That is good."
   ]
  },
  {
   "cell_type": "code",
   "execution_count": 12,
   "metadata": {},
   "outputs": [
    {
     "name": "stdout",
     "output_type": "stream",
     "text": [
      "(421095, 103)\n",
      "(421095, 68)\n",
      "True\n"
     ]
    }
   ],
   "source": [
    "# Drop all columns that contain NA\n",
    "y2015NoNa = y2015.dropna(axis=1)\n",
    "print(y2015.shape)\n",
    "print(y2015NoNa.shape)\n",
    "#Check if 'loan_status' is still in columns\n",
    "print('loan_status' in y2015NoNa.columns)"
   ]
  },
  {
   "cell_type": "code",
   "execution_count": 13,
   "metadata": {},
   "outputs": [
    {
     "name": "stdout",
     "output_type": "stream",
     "text": [
      "(421095, 58)\n",
      "(421095, 10)\n",
      "(421095, 54)\n"
     ]
    }
   ],
   "source": [
    "# Split data into categorical and numerical\n",
    "y2015NoNa_num = y2015NoNa._get_numeric_data()\n",
    "print(y2015NoNa_num.shape)\n",
    "# scale numeric data\n",
    "from sklearn.preprocessing import StandardScaler\n",
    "y2015NoNa_num_scaled = StandardScaler().fit_transform(y2015NoNa_num)\n",
    "y2015_num_scaled = pd.DataFrame(y2015NoNa_num_scaled, columns = y2015NoNa_num.columns)\n",
    "\n",
    "# Drpp numeric data columns\n",
    "y2015NoNa_cat = y2015NoNa.drop(y2015NoNa_num.columns, axis=1)\n",
    "print(y2015NoNa_cat.shape)\n",
    "\n",
    "# generate dummies for categorical data\n",
    "y2015_catdum= pd.get_dummies(y2015NoNa_cat)\n",
    "print(y2015_catdum.shape)"
   ]
  },
  {
   "cell_type": "code",
   "execution_count": 14,
   "metadata": {},
   "outputs": [
    {
     "data": {
      "text/plain": [
       "(421095, 68)"
      ]
     },
     "execution_count": 14,
     "metadata": {},
     "output_type": "execute_result"
    }
   ],
   "source": [
    "# rejoin the dataset\n",
    "scD= y2015_num_scaled.join(y2015NoNa_cat)\n",
    "scD.shape"
   ]
  },
  {
   "cell_type": "code",
   "execution_count": 15,
   "metadata": {},
   "outputs": [],
   "source": [
    "from sklearn import ensemble\n",
    "from sklearn.model_selection import cross_val_score\n",
    "import time\n",
    "def crossval(input_df, target, no_folds):\n",
    "    start_time=time.time()\n",
    "    rand_forest_class = ensemble.RandomForestClassifier()\n",
    "    cvs = cross_val_score(rand_forest_class, input_df, target, cv=no_folds)\n",
    "    print(cvs)    \n",
    "    print('Time taken: {} seconds.'.format('%.3f' % (time.time() - start_time)))\n",
    "    print('Average accuracy: {}'.format('%.3f' % cvs.mean()))\n",
    "    return(cvs)"
   ]
  },
  {
   "cell_type": "code",
   "execution_count": 16,
   "metadata": {},
   "outputs": [
    {
     "name": "stdout",
     "output_type": "stream",
     "text": [
      "[0.96081784 0.96452233 0.96138776 0.96105531 0.9591071  0.95877464\n",
      " 0.79581562 0.96031727 0.96029164 0.95549328]\n",
      "Time taken: 355.119 seconds.\n",
      "Average accuracy: 0.944\n"
     ]
    }
   ],
   "source": [
    "#Data\n",
    "target= scD['loan_status']\n",
    "data=scD.drop('loan_status', axis=1)\n",
    "datDum = pd.get_dummies(data)\n",
    "\n",
    "#Run Randon Forest Classifier\n",
    "NoNaScores =crossval(datDum, target, 10)"
   ]
  },
  {
   "cell_type": "markdown",
   "metadata": {},
   "source": [
    "### RFC - with PCA"
   ]
  },
  {
   "cell_type": "code",
   "execution_count": 17,
   "metadata": {},
   "outputs": [],
   "source": [
    "#Function to run PCA and RFC\n",
    "from matplotlib.mlab import PCA as mlabPCA\n",
    "from sklearn.decomposition import PCA \n",
    "from sklearn.preprocessing import StandardScaler\n",
    "\n",
    "def PCAandRFC(input_df,no_cs, target, no_folds):\n",
    "    \n",
    "    pca = PCA(n_components=no_cs)\n",
    "    Y_sklearn = pca.fit_transform(input_df) # Makes the whole PCA\n",
    "    print(\n",
    "        'The percentage of total variance in the dataset explained by each',\n",
    "        'component from Sklearn PCA.\\n',\n",
    "        pca.explained_variance_ratio_\n",
    "    )\n",
    "\n",
    "    var1=np.cumsum(np.round(pca.explained_variance_ratio_, decimals=4)*100)\n",
    "    plt.plot(var1)\n",
    "    plt.show()\n",
    "    # Select the components\n",
    "    PCA_Features = pd.DataFrame(Y_sklearn)\n",
    "    # Use the components to run RFC  \n",
    "    PCAScores=crossval(PCA_Features, target, no_folds)\n",
    "    return(PCAScores)"
   ]
  },
  {
   "cell_type": "code",
   "execution_count": 18,
   "metadata": {},
   "outputs": [
    {
     "name": "stdout",
     "output_type": "stream",
     "text": [
      "The percentage of total variance in the dataset explained by each component from Sklearn PCA.\n",
      " [0.16752381 0.09791158 0.05869457 0.05721646 0.05151462 0.03831797\n",
      " 0.03534651 0.03374542 0.03057518 0.0291266 ]\n"
     ]
    },
    {
     "data": {
      "image/png": "[encoded data removed]",
      "text/plain": [
       "<Figure size 432x288 with 1 Axes>"
      ]
     },
     "metadata": {},
     "output_type": "display_data"
    },
    {
     "name": "stdout",
     "output_type": "stream",
     "text": [
      "[0.88632424 0.89898126 0.89985989 0.90026359 0.89693659 0.88997863\n",
      " 0.88218671 0.88306538 0.89296317 0.814017  ]\n",
      "Time taken: 438.159 seconds.\n",
      "Average accuracy: 0.884\n"
     ]
    }
   ],
   "source": [
    "PCAScores10=PCAandRFC(datDum,10, target, 10)"
   ]
  },
  {
   "cell_type": "code",
   "execution_count": 19,
   "metadata": {},
   "outputs": [
    {
     "name": "stdout",
     "output_type": "stream",
     "text": [
      "The percentage of total variance in the dataset explained by each component from Sklearn PCA.\n",
      " [0.16752381 0.09791158 0.05869457 0.05721646 0.05151462 0.03831798\n",
      " 0.03534659 0.03374544 0.03057539 0.02912695 0.02870825 0.02190484\n",
      " 0.01993514 0.01799992 0.01767637 0.01654966 0.01616469 0.01606871\n",
      " 0.01577781 0.01516421 0.01404567 0.01364271 0.01351596 0.01190054\n",
      " 0.01160556 0.01125123 0.01000285 0.00861104 0.00800378 0.00761584\n",
      " 0.00730304 0.00621679 0.00586718 0.00575206 0.00551713 0.00516091\n",
      " 0.00434039 0.00427907 0.00391131 0.00383868 0.00347125 0.00344973\n",
      " 0.003215   0.00312943 0.00302617 0.00236961 0.00230628 0.00207655\n",
      " 0.0019041  0.00184388 0.00183141 0.00172364 0.00155314 0.00152156\n",
      " 0.0013995  0.00138669 0.00134722 0.00131878 0.00126582 0.00115536\n",
      " 0.00112668 0.0011143  0.00105916 0.00105213 0.00094646 0.00079614\n",
      " 0.00070241 0.00060171 0.00044345 0.00043395]\n"
     ]
    },
    {
     "data": {
      "image/png": "[encoded data removed]",
      "text/plain": [
       "<Figure size 432x288 with 1 Axes>"
      ]
     },
     "metadata": {},
     "output_type": "display_data"
    },
    {
     "name": "stdout",
     "output_type": "stream",
     "text": [
      "[0.88309468 0.90126095 0.88922134 0.89553798 0.87872239 0.8888625\n",
      " 0.74072051 0.84345389 0.69302016 0.7200874 ]\n",
      "Time taken: 1129.614 seconds.\n",
      "Average accuracy: 0.833\n"
     ]
    }
   ],
   "source": [
    "PCAScores30=PCAandRFC(datDum,70, target, 10)"
   ]
  },
  {
   "cell_type": "markdown",
   "metadata": {},
   "source": [
    "### RFC with most correlated features"
   ]
  },
  {
   "cell_type": "code",
   "execution_count": 20,
   "metadata": {},
   "outputs": [
    {
     "data": {
      "text/plain": [
       "(421095, 112)"
      ]
     },
     "execution_count": 20,
     "metadata": {},
     "output_type": "execute_result"
    }
   ],
   "source": [
    "# join numerical and dummy data inlcuding the loan status\n",
    "corrdata= y2015_num_scaled.join(y2015_catdum)\n",
    "corrdata.shape"
   ]
  },
  {
   "cell_type": "code",
   "execution_count": 21,
   "metadata": {},
   "outputs": [],
   "source": [
    "# See which features correlated with the target\n",
    "CorrMa = corrdata.corr(method='pearson')"
   ]
  },
  {
   "cell_type": "code",
   "execution_count": 22,
   "metadata": {},
   "outputs": [],
   "source": [
    "#Column names that include loan_status\n",
    "Features=pd.get_dummies(target).columns.tolist()"
   ]
  },
  {
   "cell_type": "code",
   "execution_count": 23,
   "metadata": {},
   "outputs": [
    {
     "name": "stdout",
     "output_type": "stream",
     "text": [
      "['loan_status_Charged Off', 'loan_status_Current', 'loan_status_Default', 'loan_status_Fully Paid', 'loan_status_In Grace Period', 'loan_status_Late (16-30 days)', 'loan_status_Late (31-120 days)']\n"
     ]
    }
   ],
   "source": [
    "FeaturesC = ['loan_status_' + s  for s in Features]\n",
    "print(FeaturesC)"
   ]
  },
  {
   "cell_type": "code",
   "execution_count": 24,
   "metadata": {},
   "outputs": [
    {
     "data": {
      "text/html": [
       "<div>\n",
       "<style scoped>\n",
       "    .dataframe tbody tr th:only-of-type {\n",
       "        vertical-align: middle;\n",
       "    }\n",
       "\n",
       "    .dataframe tbody tr th {\n",
       "        vertical-align: top;\n",
       "    }\n",
       "\n",
       "    .dataframe thead th {\n",
       "        text-align: right;\n",
       "    }\n",
       "</style>\n",
       "<table border=\"1\" class=\"dataframe\">\n",
       "  <thead>\n",
       "    <tr style=\"text-align: right;\">\n",
       "      <th></th>\n",
       "      <th>loan_status_Charged Off</th>\n",
       "      <th>loan_status_Current</th>\n",
       "      <th>loan_status_Default</th>\n",
       "      <th>loan_status_Fully Paid</th>\n",
       "      <th>loan_status_In Grace Period</th>\n",
       "      <th>loan_status_Late (16-30 days)</th>\n",
       "      <th>loan_status_Late (31-120 days)</th>\n",
       "    </tr>\n",
       "  </thead>\n",
       "  <tbody>\n",
       "    <tr>\n",
       "      <th>id</th>\n",
       "      <td>-0.083406</td>\n",
       "      <td>0.146429</td>\n",
       "      <td>0.004373</td>\n",
       "      <td>-0.119724</td>\n",
       "      <td>-0.000731</td>\n",
       "      <td>0.005020</td>\n",
       "      <td>0.008371</td>\n",
       "    </tr>\n",
       "    <tr>\n",
       "      <th>member_id</th>\n",
       "      <td>-0.083382</td>\n",
       "      <td>0.146156</td>\n",
       "      <td>0.004429</td>\n",
       "      <td>-0.119457</td>\n",
       "      <td>-0.000748</td>\n",
       "      <td>0.005096</td>\n",
       "      <td>0.008412</td>\n",
       "    </tr>\n",
       "    <tr>\n",
       "      <th>loan_amnt</th>\n",
       "      <td>0.011895</td>\n",
       "      <td>0.015382</td>\n",
       "      <td>0.001988</td>\n",
       "      <td>-0.033211</td>\n",
       "      <td>0.011779</td>\n",
       "      <td>0.009891</td>\n",
       "      <td>0.009339</td>\n",
       "    </tr>\n",
       "    <tr>\n",
       "      <th>funded_amnt</th>\n",
       "      <td>0.011895</td>\n",
       "      <td>0.015382</td>\n",
       "      <td>0.001988</td>\n",
       "      <td>-0.033211</td>\n",
       "      <td>0.011779</td>\n",
       "      <td>0.009891</td>\n",
       "      <td>0.009339</td>\n",
       "    </tr>\n",
       "    <tr>\n",
       "      <th>funded_amnt_inv</th>\n",
       "      <td>0.011844</td>\n",
       "      <td>0.015401</td>\n",
       "      <td>0.001965</td>\n",
       "      <td>-0.033178</td>\n",
       "      <td>0.011769</td>\n",
       "      <td>0.009872</td>\n",
       "      <td>0.009298</td>\n",
       "    </tr>\n",
       "  </tbody>\n",
       "</table>\n",
       "</div>"
      ],
      "text/plain": [
       "                 loan_status_Charged Off  loan_status_Current  \\\n",
       "id                             -0.083406             0.146429   \n",
       "member_id                      -0.083382             0.146156   \n",
       "loan_amnt                       0.011895             0.015382   \n",
       "funded_amnt                     0.011895             0.015382   \n",
       "funded_amnt_inv                 0.011844             0.015401   \n",
       "\n",
       "                 loan_status_Default  loan_status_Fully Paid  \\\n",
       "id                          0.004373               -0.119724   \n",
       "member_id                   0.004429               -0.119457   \n",
       "loan_amnt                   0.001988               -0.033211   \n",
       "funded_amnt                 0.001988               -0.033211   \n",
       "funded_amnt_inv             0.001965               -0.033178   \n",
       "\n",
       "                 loan_status_In Grace Period  loan_status_Late (16-30 days)  \\\n",
       "id                                 -0.000731                       0.005020   \n",
       "member_id                          -0.000748                       0.005096   \n",
       "loan_amnt                           0.011779                       0.009891   \n",
       "funded_amnt                         0.011779                       0.009891   \n",
       "funded_amnt_inv                     0.011769                       0.009872   \n",
       "\n",
       "                 loan_status_Late (31-120 days)  \n",
       "id                                     0.008371  \n",
       "member_id                              0.008412  \n",
       "loan_amnt                              0.009339  \n",
       "funded_amnt                            0.009339  \n",
       "funded_amnt_inv                        0.009298  "
      ]
     },
     "execution_count": 24,
     "metadata": {},
     "output_type": "execute_result"
    }
   ],
   "source": [
    "# Look at best correlated features\n",
    "CorrMa[FeaturesC].head()"
   ]
  },
  {
   "cell_type": "code",
   "execution_count": 25,
   "metadata": {},
   "outputs": [
    {
     "data": {
      "text/plain": [
       "id                -0.039670\n",
       "member_id         -0.039494\n",
       "loan_amnt          0.027063\n",
       "funded_amnt        0.027063\n",
       "funded_amnt_inv    0.026972\n",
       "Name: Sum_LoanStatus, dtype: float64"
      ]
     },
     "execution_count": 25,
     "metadata": {},
     "output_type": "execute_result"
    }
   ],
   "source": [
    "CorrMa['Sum_LoanStatus']=CorrMa[FeaturesC].sum(axis=1)\n",
    "CorrMa['Sum_LoanStatus'].head(5)"
   ]
  },
  {
   "cell_type": "code",
   "execution_count": 26,
   "metadata": {},
   "outputs": [
    {
     "data": {
      "text/plain": [
       "loan_status_Default               0.887982\n",
       "loan_status_Late (16-30 days)     0.828841\n",
       "loan_status_In Grace Period       0.743873\n",
       "loan_status_Current              -0.688066\n",
       "loan_status_Late (31-120 days)    0.625224\n",
       "loan_status_Charged Off           0.360243\n",
       "int_rate                          0.227989\n",
       "total_rec_late_fee                0.176385\n",
       "collection_recovery_fee           0.167451\n",
       "recoveries                        0.166772\n",
       "grade_A                          -0.131174\n",
       "total_rec_prncp                  -0.123815\n",
       "acc_open_past_24mths              0.119297\n",
       "num_tl_op_past_12m                0.107263\n",
       "grade_E                           0.106415\n",
       "grade_F                           0.093645\n",
       "total_pymnt_inv                  -0.092828\n",
       "total_pymnt                      -0.092797\n",
       "grade_D                           0.091356\n",
       "grade_B                          -0.090202\n",
       "Name: Sum_LoanStatus, dtype: float64"
      ]
     },
     "execution_count": 26,
     "metadata": {},
     "output_type": "execute_result"
    }
   ],
   "source": [
    "# Return the most positively and negatively correlated features \n",
    "CorrMa['abs_Sum_LoanStatus']=abs(CorrMa['Sum_LoanStatus'])\n",
    "CorrMa=CorrMa.sort_values(by='abs_Sum_LoanStatus', ascending=False)\n",
    "CorrMa['Sum_LoanStatus'].head(20)"
   ]
  },
  {
   "cell_type": "markdown",
   "metadata": {},
   "source": [
    "hardly any feature is correlated..."
   ]
  },
  {
   "cell_type": "code",
   "execution_count": 27,
   "metadata": {},
   "outputs": [
    {
     "name": "stdout",
     "output_type": "stream",
     "text": [
      "20\n",
      "int_rate\n",
      "total_rec_late_fee\n",
      "collection_recovery_fee\n",
      "recoveries\n",
      "grade_A\n",
      "total_rec_prncp\n",
      "acc_open_past_24mths\n",
      "num_tl_op_past_12m\n",
      "grade_E\n",
      "grade_F\n",
      "total_pymnt_inv\n",
      "total_pymnt\n",
      "grade_D\n",
      "grade_B\n",
      "14\n"
     ]
    }
   ],
   "source": [
    "# planned to choose all features with abs(R^2)>0.5, but there are none. \n",
    "# the remaining features are barely correlated with the target.\n",
    "# Therefore I chose to use the top 20 and remove the loan_status features\n",
    "\n",
    "topFeatures= CorrMa.index.tolist()[0:20]\n",
    "print(len(topFeatures))\n",
    "topFeaturesnew=[]\n",
    "#check if topFeature contain loan_status feature\n",
    "for f in topFeatures:\n",
    "    if f in FeaturesC:\n",
    "        next\n",
    "    else:\n",
    "        print(f)\n",
    "        topFeaturesnew.append(f) # append only with elements that are not element of the target\n",
    "\n",
    "print(len(topFeaturesnew))"
   ]
  },
  {
   "cell_type": "code",
   "execution_count": 30,
   "metadata": {},
   "outputs": [
    {
     "name": "stdout",
     "output_type": "stream",
     "text": [
      "(421095, 105)\n",
      "(421095, 14)\n",
      "[0.89093111 0.90667522 0.90301821 0.9060578  0.91104251 0.91175493\n",
      " 0.91184782 0.91389014 0.91455102 0.88533701]\n",
      "Time taken: 122.855 seconds.\n",
      "Average accuracy: 0.906\n"
     ]
    }
   ],
   "source": [
    "# Repeat RFC with the most correlated features\n",
    "#Data\n",
    "target= scD['loan_status']\n",
    "data=scD.drop('loan_status', axis=1)\n",
    "datDum = pd.get_dummies(data)\n",
    "print(datDum.shape)\n",
    "datDum= datDum[topFeaturesnew]\n",
    "print(datDum.shape)\n",
    "#Randon Forest Classifier\n",
    "CorScores=crossval(datDum, target, 10)"
   ]
  },
  {
   "cell_type": "code",
   "execution_count": 31,
   "metadata": {},
   "outputs": [
    {
     "name": "stdout",
     "output_type": "stream",
     "text": [
      "[0.89093111 0.90667522 0.90301821 0.9060578  0.91104251 0.91175493\n",
      " 0.91184782 0.91389014 0.91455102 0.88533701]\n"
     ]
    }
   ],
   "source": [
    "print(CorScores)"
   ]
  },
  {
   "cell_type": "markdown",
   "metadata": {},
   "source": [
    "## Conclusion\n",
    "\n"
   ]
  },
  {
   "cell_type": "code",
   "execution_count": 35,
   "metadata": {},
   "outputs": [
    {
     "name": "stdout",
     "output_type": "stream",
     "text": [
      "   NoNaScore  PCAScore10  PCAScore70  CorrScores\n",
      "0   0.960818    0.886324    0.883095    0.890931\n",
      "1   0.964522    0.898981    0.901261    0.906675\n",
      "2   0.961388    0.899860    0.889221    0.903018\n",
      "3   0.961055    0.900264    0.895538    0.906058\n",
      "4   0.959107    0.896937    0.878722    0.911043\n",
      "      NoNa    PCA10     PCA70     Corr\n",
      "0  332.545  324.077  1047.659  121.029\n"
     ]
    },
    {
     "data": {
      "text/plain": [
       "Text(0.5,0,'Variations tried')"
      ]
     },
     "execution_count": 35,
     "metadata": {},
     "output_type": "execute_result"
    },
    {
     "data": {
      "image/png": "[encoded data removed]",
      "text/plain": [
       "<Figure size 360x360 with 1 Axes>"
      ]
     },
     "metadata": {},
     "output_type": "display_data"
    },
    {
     "data": {
      "image/png": "[encoded data removed]",
      "text/plain": [
       "<Figure size 360x360 with 1 Axes>"
      ]
     },
     "metadata": {},
     "output_type": "display_data"
    }
   ],
   "source": [
    "Scores = {'NoNaScore': NoNaScores, 'PCAScore10': PCAScores10, 'PCAScore70': PCAScores30,'CorrScores': CorScores}\n",
    "RunTimes={'NoNa':[332.545] , 'PCA10': [324.077], 'PCA70': [1047.659], 'Corr': [121.029]}\n",
    "Scoreresults = pd.DataFrame(data=Scores, index=(range(10)))\n",
    "print(Scoreresults.head())\n",
    "Timeresults=pd.DataFrame(data=RunTimes)\n",
    "print(Timeresults)\n",
    "\n",
    "# Make a boxplot for comparison\n",
    "fig, ax = plt.subplots()\n",
    "fig.set_size_inches(5,5)\n",
    "im = sns.boxplot(data=Scoreresults[['NoNaScore','PCAScore10','PCAScore70','CorrScores']], ax=ax)\n",
    "im.set_title('Scores of variations tried')\n",
    "im.set_ylabel('Scores')\n",
    "im.set_xlabel('Variations tried')\n",
    "# Make a boxplot for comparison\n",
    "fig, ax = plt.subplots()\n",
    "fig.set_size_inches(5,5)\n",
    "im = sns.boxplot(data=Timeresults[['NoNa','PCA10','PCA70','Corr']], ax=ax)\n",
    "im.set_title('Runtime of variations tried')\n",
    "im.set_ylabel('Runtime [s]')\n",
    "im.set_xlabel('Variations tried')"
   ]
  },
  {
   "cell_type": "markdown",
   "metadata": {},
   "source": [
    "The best scores are received when the data is cleaned from all columns that contain Na. However, the scores might be overfitting as there is one extreme outlier in the othwise very tigh distribution of errors.\n",
    "When using principal components for the RFC, the score drops to 90% accurancy, with equal or even longer running times. So this method does not seem to be a good alternative here.\n",
    "When summing the correlation scores for the loan_status data and using the best 14 features, that really have low correlation with the output features, we also achieve an average accuracy of 90% combined with a fast runtime.  \n"
   ]
  }
 ],
 "metadata": {
  "hide_input": false,
  "kernelspec": {
   "display_name": "Python 3",
   "language": "python",
   "name": "python3"
  },
  "language_info": {
   "codemirror_mode": {
    "name": "ipython",
    "version": 3
   },
   "file_extension": ".py",
   "mimetype": "text/x-python",
   "name": "python",
   "nbconvert_exporter": "python",
   "pygments_lexer": "ipython3",
   "version": "3.6.5"
  },
  "toc": {
   "base_numbering": 1,
   "nav_menu": {
    "height": "86px",
    "width": "252px"
   },
   "number_sections": true,
   "sideBar": true,
   "skip_h1_title": false,
   "title_cell": "Table of Contents",
   "title_sidebar": "Contents",
   "toc_cell": false,
   "toc_position": {
    "height": "calc(100% - 180px)",
    "left": "10px",
    "top": "150px",
    "width": "165px"
   },
   "toc_section_display": "block",
   "toc_window_display": true
  },
  "varInspector": {
   "cols": {
    "lenName": 16,
    "lenType": 16,
    "lenVar": 40
   },
   "kernels_config": {
    "python": {
     "delete_cmd_postfix": "",
     "delete_cmd_prefix": "del ",
     "library": "var_list.py",
     "varRefreshCmd": "print(var_dic_list())"
    },
    "r": {
     "delete_cmd_postfix": ") ",
     "delete_cmd_prefix": "rm(",
     "library": "var_list.r",
     "varRefreshCmd": "cat(var_dic_list()) "
    }
   },
   "types_to_exclude": [
    "module",
    "function",
    "builtin_function_or_method",
    "instance",
    "_Feature"
   ],
   "window_display": false
  }
 },
 "nbformat": 4,
 "nbformat_minor": 2
}
