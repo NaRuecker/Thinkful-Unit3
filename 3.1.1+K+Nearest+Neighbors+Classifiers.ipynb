{
 "cells": [
  {
   "cell_type": "code",
   "execution_count": 1,
   "metadata": {
    "run_control": {
     "frozen": false,
     "read_only": false
    }
   },
   "outputs": [],
   "source": [
    "import numpy as np\n",
    "import pandas as pd\n",
    "import matplotlib.pyplot as plt\n",
    "import scipy\n",
    "%matplotlib inline"
   ]
  },
  {
   "cell_type": "markdown",
   "metadata": {
    "run_control": {
     "frozen": false,
     "read_only": false
    }
   },
   "source": [
    "# K Nearest Neighbors Classifiers\n",
    "\n",
    "So far we've covered learning via probability (naive Bayes) and learning via errors (regression). Here we'll cover learning via similarity. This means we look for the datapoints that are most similar to the observation we are trying to predict.\n",
    "\n",
    "Let's start by the simplest example: **Nearest Neighbor**.\n",
    "\n",
    "## Nearest Neighbor\n",
    "\n",
    "Let's use this example: classifying a song as either \"rock\" or \"jazz\". For this data we have measures of duration in seconds and loudness in loudness units (we're not going to be using decibels since that isn't a linear measure, which would create some problems we'll get into later)."
   ]
  },
  {
   "cell_type": "code",
   "execution_count": 2,
   "metadata": {
    "run_control": {
     "frozen": false,
     "read_only": false
    }
   },
   "outputs": [
    {
     "data": {
      "image/png": "[encoded data removed]",
      "text/plain": [
       "<Figure size 432x288 with 1 Axes>"
      ]
     },
     "metadata": {},
     "output_type": "display_data"
    }
   ],
   "source": [
    "music = pd.DataFrame()\n",
    "\n",
    "# Some data to play with.\n",
    "music['duration'] = [184, 134, 243, 186, 122, 197, 294, 382, 102, 264, \n",
    "                     205, 110, 307, 110, 397, 153, 190, 192, 210, 403,\n",
    "                     164, 198, 204, 253, 234, 190, 182, 401, 376, 102]\n",
    "music['loudness'] = [18, 34, 43, 36, 22, 9, 29, 22, 10, 24, \n",
    "                     20, 10, 17, 51, 7, 13, 19, 12, 21, 22,\n",
    "                     16, 18, 4, 23, 34, 19, 14, 11, 37, 42]\n",
    "\n",
    "# We know whether the songs in our training data are jazz or not.\n",
    "music['jazz'] = [ 1, 0, 0, 0, 1, 1, 0, 1, 1, 0,\n",
    "                  0, 1, 1, 0, 1, 1, 0, 1, 1, 1,\n",
    "                  1, 1, 1, 1, 0, 0, 1, 1, 0, 0]\n",
    "\n",
    "\n",
    "# Look at our data.\n",
    "plt.scatter(\n",
    "    music[music['jazz'] == 1].duration,\n",
    "    music[music['jazz'] == 1].loudness,\n",
    "    color='red'\n",
    ")\n",
    "plt.scatter(\n",
    "    music[music['jazz'] == 0].duration,\n",
    "    music[music['jazz'] == 0].loudness,\n",
    "    color='blue'\n",
    ")\n",
    "plt.legend(['Jazz', 'Rock'])\n",
    "plt.title('Jazz and Rock Characteristics')\n",
    "plt.xlabel('Duration')\n",
    "plt.ylabel('Loudness')\n",
    "plt.show()"
   ]
  },
  {
   "cell_type": "markdown",
   "metadata": {
    "run_control": {
     "frozen": false,
     "read_only": false
    }
   },
   "source": [
    "The simplest form of a similarity model is the Nearest Neighbor model. This works quite simply: when trying to predict an observation, we find the closest (or _nearest_) known observation in our training data and use that value to make our prediction. Here we'll use the model as a classifier, the outcome of interest will be a category.\n",
    "\n",
    "To find which observation is \"nearest\" we need some kind of way to measure distance. Typically we use _Euclidean distance_, the standard distance measure that you're familiar with from geometry. With one observation in n-dimensions $(x_1, x_2, ...,x_n)$ and the other $(w_1, w_2,...,w_n)$:\n",
    "\n",
    "$$ \\sqrt{(x_1-w_1)^2 + (x_2-w_2)^2+...+(x_n-w_n)^2} $$\n",
    "\n",
    "You might recognize this formula, (taking distances, squaring them, adding the squares together, and taking the root) as a generalization of the [Pythagorean theorem](https://en.wikipedia.org/wiki/Pythagorean_theorem) into n-dimensions. You can technically define any distance measure you want, and there are times where this customization may be valuable. As a general standard, however, we'll use Euclidean distance.\n",
    "\n",
    "Now that we have a distance measure from each point in our training data to the point we're trying to predict the model can find the datapoint with the smallest distance and then apply that category to our prediction.\n",
    "\n",
    "Let's try running this model, using the SKLearn package."
   ]
  },
  {
   "cell_type": "code",
   "execution_count": 3,
   "metadata": {
    "run_control": {
     "frozen": false,
     "read_only": false
    }
   },
   "outputs": [
    {
     "data": {
      "text/plain": [
       "array([0], dtype=int64)"
      ]
     },
     "execution_count": 3,
     "metadata": {},
     "output_type": "execute_result"
    }
   ],
   "source": [
    "from sklearn.neighbors import KNeighborsClassifier\n",
    "neighbors = KNeighborsClassifier(n_neighbors=1)\n",
    "X = music[['loudness', 'duration']]\n",
    "Y = music.jazz\n",
    "neighbors.fit(X,Y)\n",
    "\n",
    "## Predict for a song with 24 loudness that's 190 seconds long.\n",
    "neighbors.predict([[24, 190]])"
   ]
  },
  {
   "cell_type": "markdown",
   "metadata": {
    "run_control": {
     "frozen": false,
     "read_only": false
    }
   },
   "source": [
    "It's as simple as that. Looks like our model is predicting that 24 loudness, 190 second long song is _not_ jazz. All it takes to train the model is a dataframe of independent variables and a dataframe of dependent outcomes."
   ]
  },
  {
   "cell_type": "markdown",
   "metadata": {
    "run_control": {
     "frozen": false,
     "read_only": false
    }
   },
   "source": [
    "You'll note that for this example, we used the `KNeighborsClassifier` method from SKLearn. This is because Nearest Neighbor is a simplification of K-Nearest Neighbors. The jump, however, isn't that far.\n",
    "\n",
    "## K-Nearest Neighbors\n",
    "\n",
    "**K-Nearest Neighbors** (or \"**KNN**\") is the logical extension of Nearest Neighbor. Instead of looking at just the single nearest datapoint to predict an outcome, we look at several of the nearest neighbors, with $k$ representing the number of neighbors we choose to look at. Each of the $k$ neighbors gets to vote on what the predicted outcome should be.\n",
    "\n",
    "This does a couple of valuable things. Firstly, it smooths out the predictions. If only one neighbor gets to influence the outcome, the model explicitly overfits to the training data. Any single outlier can create pockets of one category prediction surrounded by a sea of the other category.\n",
    "\n",
    "This also means instead of just predicting classes, we get implicit probabilities. If each of the $k$ neighbors gets a vote on the outcome, then the probability of the test example being from any given class $i$ is:\n",
    "$$ \\frac{votes_i}{k} $$\n",
    "\n",
    "And this applies for all classes present in the training set. Our example only has two classes, but this model can accommodate as many classes as the data set necessitates. To come up with a classifier prediction it simply takes the class for which that fraction is maximized.\n",
    "\n",
    "Let's expand our initial nearest neighbors model from above to a KNN with a $k$ of 5."
   ]
  },
  {
   "cell_type": "code",
   "execution_count": 4,
   "metadata": {
    "run_control": {
     "frozen": false,
     "read_only": false
    }
   },
   "outputs": [
    {
     "name": "stdout",
     "output_type": "stream",
     "text": [
      "[1]\n",
      "[[0.4 0.6]]\n"
     ]
    }
   ],
   "source": [
    "neighbors = KNeighborsClassifier(n_neighbors=5)\n",
    "X = music[['loudness', 'duration']]\n",
    "Y = music.jazz\n",
    "neighbors.fit(X,Y)\n",
    "\n",
    "## Predict for a 24 loudness, 190 seconds long song.\n",
    "print(neighbors.predict([[24, 190]]))\n",
    "print(neighbors.predict_proba([[24, 190]]))"
   ]
  },
  {
   "cell_type": "markdown",
   "metadata": {
    "run_control": {
     "frozen": false,
     "read_only": false
    }
   },
   "source": [
    "Now our test prediction has changed. In using the five nearest neighbors it appears that there were two votes for rock and three for jazz, so it was classified as a jazz song. This is different than our simpler Nearest Neighbors model. While the closest observation was in fact rock, there are more jazz songs in the nearest $k$ neighbors than rock.\n",
    "\n",
    "We can visualize our decision bounds with something called a _mesh_. This allows us to generate a prediction over the whole space. Read the code below and make sure you can pull out what the individual lines do, consulting the documentation for unfamiliar methods if necessary."
   ]
  },
  {
   "cell_type": "code",
   "execution_count": 5,
   "metadata": {
    "run_control": {
     "frozen": false,
     "read_only": false
    }
   },
   "outputs": [
    {
     "name": "stdout",
     "output_type": "stream",
     "text": [
      "x_min: 3.5\n",
      "x_max: 51.5\n",
      "y_min: 101.5\n",
      "y_max: 403.5\n",
      "[ 3.5  7.5 11.5 15.5 19.5 23.5 27.5 31.5 35.5 39.5 43.5 47.5]\n",
      "[101.5 105.5 109.5 113.5 117.5 121.5 125.5 129.5 133.5 137.5 141.5 145.5\n",
      " 149.5 153.5 157.5 161.5 165.5 169.5 173.5 177.5 181.5 185.5 189.5 193.5\n",
      " 197.5 201.5 205.5 209.5 213.5 217.5 221.5 225.5 229.5 233.5 237.5 241.5\n",
      " 245.5 249.5 253.5 257.5 261.5 265.5 269.5 273.5 277.5 281.5 285.5 289.5\n",
      " 293.5 297.5 301.5 305.5 309.5 313.5 317.5 321.5 325.5 329.5 333.5 337.5\n",
      " 341.5 345.5 349.5 353.5 357.5 361.5 365.5 369.5 373.5 377.5 381.5 385.5\n",
      " 389.5 393.5 397.5 401.5]\n",
      "xx: [[ 3.5  7.5 11.5 15.5 19.5 23.5 27.5 31.5 35.5 39.5 43.5 47.5]\n",
      " [ 3.5  7.5 11.5 15.5 19.5 23.5 27.5 31.5 35.5 39.5 43.5 47.5]\n",
      " [ 3.5  7.5 11.5 15.5 19.5 23.5 27.5 31.5 35.5 39.5 43.5 47.5]\n",
      " [ 3.5  7.5 11.5 15.5 19.5 23.5 27.5 31.5 35.5 39.5 43.5 47.5]\n",
      " [ 3.5  7.5 11.5 15.5 19.5 23.5 27.5 31.5 35.5 39.5 43.5 47.5]\n",
      " [ 3.5  7.5 11.5 15.5 19.5 23.5 27.5 31.5 35.5 39.5 43.5 47.5]\n",
      " [ 3.5  7.5 11.5 15.5 19.5 23.5 27.5 31.5 35.5 39.5 43.5 47.5]\n",
      " [ 3.5  7.5 11.5 15.5 19.5 23.5 27.5 31.5 35.5 39.5 43.5 47.5]\n",
      " [ 3.5  7.5 11.5 15.5 19.5 23.5 27.5 31.5 35.5 39.5 43.5 47.5]\n",
      " [ 3.5  7.5 11.5 15.5 19.5 23.5 27.5 31.5 35.5 39.5 43.5 47.5]\n",
      " [ 3.5  7.5 11.5 15.5 19.5 23.5 27.5 31.5 35.5 39.5 43.5 47.5]\n",
      " [ 3.5  7.5 11.5 15.5 19.5 23.5 27.5 31.5 35.5 39.5 43.5 47.5]\n",
      " [ 3.5  7.5 11.5 15.5 19.5 23.5 27.5 31.5 35.5 39.5 43.5 47.5]\n",
      " [ 3.5  7.5 11.5 15.5 19.5 23.5 27.5 31.5 35.5 39.5 43.5 47.5]\n",
      " [ 3.5  7.5 11.5 15.5 19.5 23.5 27.5 31.5 35.5 39.5 43.5 47.5]\n",
      " [ 3.5  7.5 11.5 15.5 19.5 23.5 27.5 31.5 35.5 39.5 43.5 47.5]\n",
      " [ 3.5  7.5 11.5 15.5 19.5 23.5 27.5 31.5 35.5 39.5 43.5 47.5]\n",
      " [ 3.5  7.5 11.5 15.5 19.5 23.5 27.5 31.5 35.5 39.5 43.5 47.5]\n",
      " [ 3.5  7.5 11.5 15.5 19.5 23.5 27.5 31.5 35.5 39.5 43.5 47.5]\n",
      " [ 3.5  7.5 11.5 15.5 19.5 23.5 27.5 31.5 35.5 39.5 43.5 47.5]\n",
      " [ 3.5  7.5 11.5 15.5 19.5 23.5 27.5 31.5 35.5 39.5 43.5 47.5]\n",
      " [ 3.5  7.5 11.5 15.5 19.5 23.5 27.5 31.5 35.5 39.5 43.5 47.5]\n",
      " [ 3.5  7.5 11.5 15.5 19.5 23.5 27.5 31.5 35.5 39.5 43.5 47.5]\n",
      " [ 3.5  7.5 11.5 15.5 19.5 23.5 27.5 31.5 35.5 39.5 43.5 47.5]\n",
      " [ 3.5  7.5 11.5 15.5 19.5 23.5 27.5 31.5 35.5 39.5 43.5 47.5]\n",
      " [ 3.5  7.5 11.5 15.5 19.5 23.5 27.5 31.5 35.5 39.5 43.5 47.5]\n",
      " [ 3.5  7.5 11.5 15.5 19.5 23.5 27.5 31.5 35.5 39.5 43.5 47.5]\n",
      " [ 3.5  7.5 11.5 15.5 19.5 23.5 27.5 31.5 35.5 39.5 43.5 47.5]\n",
      " [ 3.5  7.5 11.5 15.5 19.5 23.5 27.5 31.5 35.5 39.5 43.5 47.5]\n",
      " [ 3.5  7.5 11.5 15.5 19.5 23.5 27.5 31.5 35.5 39.5 43.5 47.5]\n",
      " [ 3.5  7.5 11.5 15.5 19.5 23.5 27.5 31.5 35.5 39.5 43.5 47.5]\n",
      " [ 3.5  7.5 11.5 15.5 19.5 23.5 27.5 31.5 35.5 39.5 43.5 47.5]\n",
      " [ 3.5  7.5 11.5 15.5 19.5 23.5 27.5 31.5 35.5 39.5 43.5 47.5]\n",
      " [ 3.5  7.5 11.5 15.5 19.5 23.5 27.5 31.5 35.5 39.5 43.5 47.5]\n",
      " [ 3.5  7.5 11.5 15.5 19.5 23.5 27.5 31.5 35.5 39.5 43.5 47.5]\n",
      " [ 3.5  7.5 11.5 15.5 19.5 23.5 27.5 31.5 35.5 39.5 43.5 47.5]\n",
      " [ 3.5  7.5 11.5 15.5 19.5 23.5 27.5 31.5 35.5 39.5 43.5 47.5]\n",
      " [ 3.5  7.5 11.5 15.5 19.5 23.5 27.5 31.5 35.5 39.5 43.5 47.5]\n",
      " [ 3.5  7.5 11.5 15.5 19.5 23.5 27.5 31.5 35.5 39.5 43.5 47.5]\n",
      " [ 3.5  7.5 11.5 15.5 19.5 23.5 27.5 31.5 35.5 39.5 43.5 47.5]\n",
      " [ 3.5  7.5 11.5 15.5 19.5 23.5 27.5 31.5 35.5 39.5 43.5 47.5]\n",
      " [ 3.5  7.5 11.5 15.5 19.5 23.5 27.5 31.5 35.5 39.5 43.5 47.5]\n",
      " [ 3.5  7.5 11.5 15.5 19.5 23.5 27.5 31.5 35.5 39.5 43.5 47.5]\n",
      " [ 3.5  7.5 11.5 15.5 19.5 23.5 27.5 31.5 35.5 39.5 43.5 47.5]\n",
      " [ 3.5  7.5 11.5 15.5 19.5 23.5 27.5 31.5 35.5 39.5 43.5 47.5]\n",
      " [ 3.5  7.5 11.5 15.5 19.5 23.5 27.5 31.5 35.5 39.5 43.5 47.5]\n",
      " [ 3.5  7.5 11.5 15.5 19.5 23.5 27.5 31.5 35.5 39.5 43.5 47.5]\n",
      " [ 3.5  7.5 11.5 15.5 19.5 23.5 27.5 31.5 35.5 39.5 43.5 47.5]\n",
      " [ 3.5  7.5 11.5 15.5 19.5 23.5 27.5 31.5 35.5 39.5 43.5 47.5]\n",
      " [ 3.5  7.5 11.5 15.5 19.5 23.5 27.5 31.5 35.5 39.5 43.5 47.5]\n",
      " [ 3.5  7.5 11.5 15.5 19.5 23.5 27.5 31.5 35.5 39.5 43.5 47.5]\n",
      " [ 3.5  7.5 11.5 15.5 19.5 23.5 27.5 31.5 35.5 39.5 43.5 47.5]\n",
      " [ 3.5  7.5 11.5 15.5 19.5 23.5 27.5 31.5 35.5 39.5 43.5 47.5]\n",
      " [ 3.5  7.5 11.5 15.5 19.5 23.5 27.5 31.5 35.5 39.5 43.5 47.5]\n",
      " [ 3.5  7.5 11.5 15.5 19.5 23.5 27.5 31.5 35.5 39.5 43.5 47.5]\n",
      " [ 3.5  7.5 11.5 15.5 19.5 23.5 27.5 31.5 35.5 39.5 43.5 47.5]\n",
      " [ 3.5  7.5 11.5 15.5 19.5 23.5 27.5 31.5 35.5 39.5 43.5 47.5]\n",
      " [ 3.5  7.5 11.5 15.5 19.5 23.5 27.5 31.5 35.5 39.5 43.5 47.5]\n",
      " [ 3.5  7.5 11.5 15.5 19.5 23.5 27.5 31.5 35.5 39.5 43.5 47.5]\n",
      " [ 3.5  7.5 11.5 15.5 19.5 23.5 27.5 31.5 35.5 39.5 43.5 47.5]\n",
      " [ 3.5  7.5 11.5 15.5 19.5 23.5 27.5 31.5 35.5 39.5 43.5 47.5]\n",
      " [ 3.5  7.5 11.5 15.5 19.5 23.5 27.5 31.5 35.5 39.5 43.5 47.5]\n",
      " [ 3.5  7.5 11.5 15.5 19.5 23.5 27.5 31.5 35.5 39.5 43.5 47.5]\n",
      " [ 3.5  7.5 11.5 15.5 19.5 23.5 27.5 31.5 35.5 39.5 43.5 47.5]\n",
      " [ 3.5  7.5 11.5 15.5 19.5 23.5 27.5 31.5 35.5 39.5 43.5 47.5]\n",
      " [ 3.5  7.5 11.5 15.5 19.5 23.5 27.5 31.5 35.5 39.5 43.5 47.5]\n",
      " [ 3.5  7.5 11.5 15.5 19.5 23.5 27.5 31.5 35.5 39.5 43.5 47.5]\n",
      " [ 3.5  7.5 11.5 15.5 19.5 23.5 27.5 31.5 35.5 39.5 43.5 47.5]\n",
      " [ 3.5  7.5 11.5 15.5 19.5 23.5 27.5 31.5 35.5 39.5 43.5 47.5]\n",
      " [ 3.5  7.5 11.5 15.5 19.5 23.5 27.5 31.5 35.5 39.5 43.5 47.5]\n",
      " [ 3.5  7.5 11.5 15.5 19.5 23.5 27.5 31.5 35.5 39.5 43.5 47.5]\n",
      " [ 3.5  7.5 11.5 15.5 19.5 23.5 27.5 31.5 35.5 39.5 43.5 47.5]\n",
      " [ 3.5  7.5 11.5 15.5 19.5 23.5 27.5 31.5 35.5 39.5 43.5 47.5]\n",
      " [ 3.5  7.5 11.5 15.5 19.5 23.5 27.5 31.5 35.5 39.5 43.5 47.5]\n",
      " [ 3.5  7.5 11.5 15.5 19.5 23.5 27.5 31.5 35.5 39.5 43.5 47.5]\n",
      " [ 3.5  7.5 11.5 15.5 19.5 23.5 27.5 31.5 35.5 39.5 43.5 47.5]]\n",
      "xx.shape: (76, 12)\n",
      "yy: [[101.5 101.5 101.5 101.5 101.5 101.5 101.5 101.5 101.5 101.5 101.5 101.5]\n",
      " [105.5 105.5 105.5 105.5 105.5 105.5 105.5 105.5 105.5 105.5 105.5 105.5]\n",
      " [109.5 109.5 109.5 109.5 109.5 109.5 109.5 109.5 109.5 109.5 109.5 109.5]\n",
      " [113.5 113.5 113.5 113.5 113.5 113.5 113.5 113.5 113.5 113.5 113.5 113.5]\n",
      " [117.5 117.5 117.5 117.5 117.5 117.5 117.5 117.5 117.5 117.5 117.5 117.5]\n",
      " [121.5 121.5 121.5 121.5 121.5 121.5 121.5 121.5 121.5 121.5 121.5 121.5]\n",
      " [125.5 125.5 125.5 125.5 125.5 125.5 125.5 125.5 125.5 125.5 125.5 125.5]\n",
      " [129.5 129.5 129.5 129.5 129.5 129.5 129.5 129.5 129.5 129.5 129.5 129.5]\n",
      " [133.5 133.5 133.5 133.5 133.5 133.5 133.5 133.5 133.5 133.5 133.5 133.5]\n",
      " [137.5 137.5 137.5 137.5 137.5 137.5 137.5 137.5 137.5 137.5 137.5 137.5]\n",
      " [141.5 141.5 141.5 141.5 141.5 141.5 141.5 141.5 141.5 141.5 141.5 141.5]\n",
      " [145.5 145.5 145.5 145.5 145.5 145.5 145.5 145.5 145.5 145.5 145.5 145.5]\n",
      " [149.5 149.5 149.5 149.5 149.5 149.5 149.5 149.5 149.5 149.5 149.5 149.5]\n",
      " [153.5 153.5 153.5 153.5 153.5 153.5 153.5 153.5 153.5 153.5 153.5 153.5]\n",
      " [157.5 157.5 157.5 157.5 157.5 157.5 157.5 157.5 157.5 157.5 157.5 157.5]\n",
      " [161.5 161.5 161.5 161.5 161.5 161.5 161.5 161.5 161.5 161.5 161.5 161.5]\n",
      " [165.5 165.5 165.5 165.5 165.5 165.5 165.5 165.5 165.5 165.5 165.5 165.5]\n",
      " [169.5 169.5 169.5 169.5 169.5 169.5 169.5 169.5 169.5 169.5 169.5 169.5]\n",
      " [173.5 173.5 173.5 173.5 173.5 173.5 173.5 173.5 173.5 173.5 173.5 173.5]\n",
      " [177.5 177.5 177.5 177.5 177.5 177.5 177.5 177.5 177.5 177.5 177.5 177.5]\n",
      " [181.5 181.5 181.5 181.5 181.5 181.5 181.5 181.5 181.5 181.5 181.5 181.5]\n",
      " [185.5 185.5 185.5 185.5 185.5 185.5 185.5 185.5 185.5 185.5 185.5 185.5]\n",
      " [189.5 189.5 189.5 189.5 189.5 189.5 189.5 189.5 189.5 189.5 189.5 189.5]\n",
      " [193.5 193.5 193.5 193.5 193.5 193.5 193.5 193.5 193.5 193.5 193.5 193.5]\n",
      " [197.5 197.5 197.5 197.5 197.5 197.5 197.5 197.5 197.5 197.5 197.5 197.5]\n",
      " [201.5 201.5 201.5 201.5 201.5 201.5 201.5 201.5 201.5 201.5 201.5 201.5]\n",
      " [205.5 205.5 205.5 205.5 205.5 205.5 205.5 205.5 205.5 205.5 205.5 205.5]\n",
      " [209.5 209.5 209.5 209.5 209.5 209.5 209.5 209.5 209.5 209.5 209.5 209.5]\n",
      " [213.5 213.5 213.5 213.5 213.5 213.5 213.5 213.5 213.5 213.5 213.5 213.5]\n",
      " [217.5 217.5 217.5 217.5 217.5 217.5 217.5 217.5 217.5 217.5 217.5 217.5]\n",
      " [221.5 221.5 221.5 221.5 221.5 221.5 221.5 221.5 221.5 221.5 221.5 221.5]\n",
      " [225.5 225.5 225.5 225.5 225.5 225.5 225.5 225.5 225.5 225.5 225.5 225.5]\n",
      " [229.5 229.5 229.5 229.5 229.5 229.5 229.5 229.5 229.5 229.5 229.5 229.5]\n",
      " [233.5 233.5 233.5 233.5 233.5 233.5 233.5 233.5 233.5 233.5 233.5 233.5]\n",
      " [237.5 237.5 237.5 237.5 237.5 237.5 237.5 237.5 237.5 237.5 237.5 237.5]\n",
      " [241.5 241.5 241.5 241.5 241.5 241.5 241.5 241.5 241.5 241.5 241.5 241.5]\n",
      " [245.5 245.5 245.5 245.5 245.5 245.5 245.5 245.5 245.5 245.5 245.5 245.5]\n",
      " [249.5 249.5 249.5 249.5 249.5 249.5 249.5 249.5 249.5 249.5 249.5 249.5]\n",
      " [253.5 253.5 253.5 253.5 253.5 253.5 253.5 253.5 253.5 253.5 253.5 253.5]\n",
      " [257.5 257.5 257.5 257.5 257.5 257.5 257.5 257.5 257.5 257.5 257.5 257.5]\n",
      " [261.5 261.5 261.5 261.5 261.5 261.5 261.5 261.5 261.5 261.5 261.5 261.5]\n",
      " [265.5 265.5 265.5 265.5 265.5 265.5 265.5 265.5 265.5 265.5 265.5 265.5]\n",
      " [269.5 269.5 269.5 269.5 269.5 269.5 269.5 269.5 269.5 269.5 269.5 269.5]\n",
      " [273.5 273.5 273.5 273.5 273.5 273.5 273.5 273.5 273.5 273.5 273.5 273.5]\n",
      " [277.5 277.5 277.5 277.5 277.5 277.5 277.5 277.5 277.5 277.5 277.5 277.5]\n",
      " [281.5 281.5 281.5 281.5 281.5 281.5 281.5 281.5 281.5 281.5 281.5 281.5]\n",
      " [285.5 285.5 285.5 285.5 285.5 285.5 285.5 285.5 285.5 285.5 285.5 285.5]\n",
      " [289.5 289.5 289.5 289.5 289.5 289.5 289.5 289.5 289.5 289.5 289.5 289.5]\n",
      " [293.5 293.5 293.5 293.5 293.5 293.5 293.5 293.5 293.5 293.5 293.5 293.5]\n",
      " [297.5 297.5 297.5 297.5 297.5 297.5 297.5 297.5 297.5 297.5 297.5 297.5]\n",
      " [301.5 301.5 301.5 301.5 301.5 301.5 301.5 301.5 301.5 301.5 301.5 301.5]\n",
      " [305.5 305.5 305.5 305.5 305.5 305.5 305.5 305.5 305.5 305.5 305.5 305.5]\n",
      " [309.5 309.5 309.5 309.5 309.5 309.5 309.5 309.5 309.5 309.5 309.5 309.5]\n",
      " [313.5 313.5 313.5 313.5 313.5 313.5 313.5 313.5 313.5 313.5 313.5 313.5]\n",
      " [317.5 317.5 317.5 317.5 317.5 317.5 317.5 317.5 317.5 317.5 317.5 317.5]\n",
      " [321.5 321.5 321.5 321.5 321.5 321.5 321.5 321.5 321.5 321.5 321.5 321.5]\n",
      " [325.5 325.5 325.5 325.5 325.5 325.5 325.5 325.5 325.5 325.5 325.5 325.5]\n",
      " [329.5 329.5 329.5 329.5 329.5 329.5 329.5 329.5 329.5 329.5 329.5 329.5]\n",
      " [333.5 333.5 333.5 333.5 333.5 333.5 333.5 333.5 333.5 333.5 333.5 333.5]\n",
      " [337.5 337.5 337.5 337.5 337.5 337.5 337.5 337.5 337.5 337.5 337.5 337.5]\n",
      " [341.5 341.5 341.5 341.5 341.5 341.5 341.5 341.5 341.5 341.5 341.5 341.5]\n",
      " [345.5 345.5 345.5 345.5 345.5 345.5 345.5 345.5 345.5 345.5 345.5 345.5]\n",
      " [349.5 349.5 349.5 349.5 349.5 349.5 349.5 349.5 349.5 349.5 349.5 349.5]\n",
      " [353.5 353.5 353.5 353.5 353.5 353.5 353.5 353.5 353.5 353.5 353.5 353.5]\n",
      " [357.5 357.5 357.5 357.5 357.5 357.5 357.5 357.5 357.5 357.5 357.5 357.5]\n",
      " [361.5 361.5 361.5 361.5 361.5 361.5 361.5 361.5 361.5 361.5 361.5 361.5]\n",
      " [365.5 365.5 365.5 365.5 365.5 365.5 365.5 365.5 365.5 365.5 365.5 365.5]\n",
      " [369.5 369.5 369.5 369.5 369.5 369.5 369.5 369.5 369.5 369.5 369.5 369.5]\n",
      " [373.5 373.5 373.5 373.5 373.5 373.5 373.5 373.5 373.5 373.5 373.5 373.5]\n",
      " [377.5 377.5 377.5 377.5 377.5 377.5 377.5 377.5 377.5 377.5 377.5 377.5]\n",
      " [381.5 381.5 381.5 381.5 381.5 381.5 381.5 381.5 381.5 381.5 381.5 381.5]\n",
      " [385.5 385.5 385.5 385.5 385.5 385.5 385.5 385.5 385.5 385.5 385.5 385.5]\n",
      " [389.5 389.5 389.5 389.5 389.5 389.5 389.5 389.5 389.5 389.5 389.5 389.5]\n",
      " [393.5 393.5 393.5 393.5 393.5 393.5 393.5 393.5 393.5 393.5 393.5 393.5]\n",
      " [397.5 397.5 397.5 397.5 397.5 397.5 397.5 397.5 397.5 397.5 397.5 397.5]\n",
      " [401.5 401.5 401.5 401.5 401.5 401.5 401.5 401.5 401.5 401.5 401.5 401.5]]\n",
      "yy.shape: (76, 12)\n",
      "np.c_[xx.ravel(), yy.ravel()] [[  3.5 101.5]\n",
      " [  7.5 101.5]\n",
      " [ 11.5 101.5]\n",
      " ...\n",
      " [ 39.5 401.5]\n",
      " [ 43.5 401.5]\n",
      " [ 47.5 401.5]]\n",
      "Z: [1 1 1 1 1 1 1 1 1 1 0 0 1 1 1 1 1 1 1 1 1 0 0 0 1 1 1 1 1 1 1 1 0 0 0 0 1\n",
      " 1 1 1 1 1 1 0 0 0 0 0 1 1 1 1 1 1 1 0 0 0 0 0 1 1 1 1 1 1 0 0 0 0 0 0 1 1\n",
      " 1 1 1 1 0 0 0 0 0 0 1 1 1 1 1 1 1 0 0 0 0 0 1 1 1 1 1 1 1 1 0 0 0 0 1 1 1\n",
      " 1 1 1 1 1 1 1 0 0 1 1 1 1 1 1 1 1 1 1 1 1 1 1 1 1 1 1 1 1 1 1 1 1 1 1 1 1\n",
      " 1 1 1 1 1 1 1 1 1 1 1 1 1 1 1 1 1 1 1 1 1 1 1 1 1 1 1 1 1 1 1 1 1 1 1 1 1\n",
      " 1 1 1 1 1 1 1 1 1 1 1 1 1 1 1 1 1 1 1 1 1 1 1 1 1 1 1 1 1 0 0 1 1 1 1 1 1\n",
      " 1 1 1 0 0 0 1 1 1 1 1 0 0 0 0 0 0 0 1 1 1 1 1 0 0 0 0 0 0 0 1 1 1 1 1 0 0\n",
      " 0 0 0 0 0 1 1 1 1 1 1 0 0 0 0 0 0 1 1 1 1 1 1 0 0 0 0 0 0 1 1 1 1 0 0 0 0\n",
      " 0 0 0 0 1 1 1 1 1 0 0 0 0 0 0 0 1 1 1 1 1 0 0 0 0 0 0 0 1 1 1 1 1 1 0 0 0\n",
      " 0 0 0 1 1 1 1 1 1 1 0 0 0 0 0 1 1 1 1 1 1 1 0 0 0 0 0 1 1 1 1 1 1 0 0 0 0\n",
      " 0 0 1 1 1 1 1 0 0 0 0 0 0 0 1 1 1 1 0 0 0 0 0 0 0 0 1 1 1 0 0 0 0 0 0 0 0\n",
      " 0 1 1 0 0 0 0 0 0 0 0 0 0 1 0 0 0 0 0 0 0 0 0 0 0 0 0 0 0 0 0 0 0 0 0 0 0\n",
      " 0 0 0 0 0 0 0 0 0 0 0 0 0 0 0 0 0 0 0 0 0 0 0 0 0 0 0 0 0 0 0 0 0 0 0 0 0\n",
      " 0 0 0 0 0 0 0 0 0 0 0 0 0 0 0 0 0 0 0 0 0 0 0 0 0 0 0 0 0 0 0 0 0 0 0 0 0\n",
      " 0 0 0 0 0 0 0 0 0 0 0 0 0 0 0 0 0 0 0 0 0 0 0 0 0 0 0 0 0 0 0 0 0 0 0 0 0\n",
      " 0 0 0 0 0 0 0 0 0 0 0 0 0 0 0 0 0 0 0 0 0 0 0 0 0 0 0 0 0 0 0 0 0 0 0 0 0\n",
      " 0 0 0 0 0 0 0 0 0 0 0 0 0 0 0 0 0 0 0 0 0 0 0 0 0 0 0 0 0 0 0 0 0 0 0 0 0\n",
      " 0 0 0 0 0 0 0 0 0 0 0 0 0 0 0 0 0 0 0 1 0 0 0 0 0 0 0 0 0 0 0 0 0 0 0 0 0\n",
      " 0 0 0 0 0 0 0 0 0 0 0 0 0 0 0 0 0 0 1 1 0 0 0 0 0 0 0 0 0 0 1 1 1 1 1 1 1\n",
      " 1 1 0 0 0 1 1 1 1 1 1 1 1 1 1 1 1 1 1 1 1 1 1 1 1 1 1 1 1 1 1 1 1 1 1 1 1\n",
      " 1 1 1 1 1 1 1 1 1 1 1 1 1 1 1 1 1 1 1 1 1 1 1 1 1 1 1 1 1 1 1 1 1 1 1 1 1\n",
      " 1 1 1 1 1 1 1 1 1 1 1 1 1 1 1 1 1 1 1 1 1 1 1 1 1 1 1 1 1 1 1 1 1 1 1 1 1\n",
      " 1 1 1 1 1 1 1 1 1 1 1 1 1 1 1 1 1 1 1 1 1 1 1 1 1 1 1 1 1 1 1 1 1 1 1 1 1\n",
      " 1 1 1 1 1 1 1 1 1 1 1 1 1 1 1 1 1 1 1 1 1 1 1 1 1 1 1 1 1 1 1 1 1 1 1 1 1\n",
      " 1 1 1 1 1 1 1 1 1 1 1 1 1 1 1 1 1 1 1 1 1 1 1 1]\n",
      "Z.shape before (912,)\n",
      "xx.shape (76, 12)\n",
      "Z.shape after (76, 12)\n",
      "Z.reshaped: [[1 1 1 1 1 1 1 1 1 1 0 0]\n",
      " [1 1 1 1 1 1 1 1 1 0 0 0]\n",
      " [1 1 1 1 1 1 1 1 0 0 0 0]\n",
      " [1 1 1 1 1 1 1 0 0 0 0 0]\n",
      " [1 1 1 1 1 1 1 0 0 0 0 0]\n",
      " [1 1 1 1 1 1 0 0 0 0 0 0]\n",
      " [1 1 1 1 1 1 0 0 0 0 0 0]\n",
      " [1 1 1 1 1 1 1 0 0 0 0 0]\n",
      " [1 1 1 1 1 1 1 1 0 0 0 0]\n",
      " [1 1 1 1 1 1 1 1 1 1 0 0]\n",
      " [1 1 1 1 1 1 1 1 1 1 1 1]\n",
      " [1 1 1 1 1 1 1 1 1 1 1 1]\n",
      " [1 1 1 1 1 1 1 1 1 1 1 1]\n",
      " [1 1 1 1 1 1 1 1 1 1 1 1]\n",
      " [1 1 1 1 1 1 1 1 1 1 1 1]\n",
      " [1 1 1 1 1 1 1 1 1 1 1 1]\n",
      " [1 1 1 1 1 1 1 1 1 1 1 1]\n",
      " [1 1 1 1 1 1 1 1 1 1 0 0]\n",
      " [1 1 1 1 1 1 1 1 1 0 0 0]\n",
      " [1 1 1 1 1 0 0 0 0 0 0 0]\n",
      " [1 1 1 1 1 0 0 0 0 0 0 0]\n",
      " [1 1 1 1 1 0 0 0 0 0 0 0]\n",
      " [1 1 1 1 1 1 0 0 0 0 0 0]\n",
      " [1 1 1 1 1 1 0 0 0 0 0 0]\n",
      " [1 1 1 1 0 0 0 0 0 0 0 0]\n",
      " [1 1 1 1 1 0 0 0 0 0 0 0]\n",
      " [1 1 1 1 1 0 0 0 0 0 0 0]\n",
      " [1 1 1 1 1 1 0 0 0 0 0 0]\n",
      " [1 1 1 1 1 1 1 0 0 0 0 0]\n",
      " [1 1 1 1 1 1 1 0 0 0 0 0]\n",
      " [1 1 1 1 1 1 0 0 0 0 0 0]\n",
      " [1 1 1 1 1 0 0 0 0 0 0 0]\n",
      " [1 1 1 1 0 0 0 0 0 0 0 0]\n",
      " [1 1 1 0 0 0 0 0 0 0 0 0]\n",
      " [1 1 0 0 0 0 0 0 0 0 0 0]\n",
      " [1 0 0 0 0 0 0 0 0 0 0 0]\n",
      " [0 0 0 0 0 0 0 0 0 0 0 0]\n",
      " [0 0 0 0 0 0 0 0 0 0 0 0]\n",
      " [0 0 0 0 0 0 0 0 0 0 0 0]\n",
      " [0 0 0 0 0 0 0 0 0 0 0 0]\n",
      " [0 0 0 0 0 0 0 0 0 0 0 0]\n",
      " [0 0 0 0 0 0 0 0 0 0 0 0]\n",
      " [0 0 0 0 0 0 0 0 0 0 0 0]\n",
      " [0 0 0 0 0 0 0 0 0 0 0 0]\n",
      " [0 0 0 0 0 0 0 0 0 0 0 0]\n",
      " [0 0 0 0 0 0 0 0 0 0 0 0]\n",
      " [0 0 0 0 0 0 0 0 0 0 0 0]\n",
      " [0 0 0 0 0 0 0 0 0 0 0 0]\n",
      " [0 0 0 0 0 0 0 0 0 0 0 0]\n",
      " [0 0 0 0 0 0 0 0 0 0 0 0]\n",
      " [0 0 0 0 0 0 0 0 0 0 0 0]\n",
      " [0 0 0 0 0 0 0 0 0 0 0 0]\n",
      " [0 0 0 0 0 0 0 0 0 0 0 0]\n",
      " [0 0 0 0 0 0 0 0 0 0 0 0]\n",
      " [1 0 0 0 0 0 0 0 0 0 0 0]\n",
      " [0 0 0 0 0 0 0 0 0 0 0 0]\n",
      " [0 0 0 0 0 0 0 0 0 0 0 0]\n",
      " [1 1 0 0 0 0 0 0 0 0 0 0]\n",
      " [1 1 1 1 1 1 1 1 1 0 0 0]\n",
      " [1 1 1 1 1 1 1 1 1 1 1 1]\n",
      " [1 1 1 1 1 1 1 1 1 1 1 1]\n",
      " [1 1 1 1 1 1 1 1 1 1 1 1]\n",
      " [1 1 1 1 1 1 1 1 1 1 1 1]\n",
      " [1 1 1 1 1 1 1 1 1 1 1 1]\n",
      " [1 1 1 1 1 1 1 1 1 1 1 1]\n",
      " [1 1 1 1 1 1 1 1 1 1 1 1]\n",
      " [1 1 1 1 1 1 1 1 1 1 1 1]\n",
      " [1 1 1 1 1 1 1 1 1 1 1 1]\n",
      " [1 1 1 1 1 1 1 1 1 1 1 1]\n",
      " [1 1 1 1 1 1 1 1 1 1 1 1]\n",
      " [1 1 1 1 1 1 1 1 1 1 1 1]\n",
      " [1 1 1 1 1 1 1 1 1 1 1 1]\n",
      " [1 1 1 1 1 1 1 1 1 1 1 1]\n",
      " [1 1 1 1 1 1 1 1 1 1 1 1]\n",
      " [1 1 1 1 1 1 1 1 1 1 1 1]\n",
      " [1 1 1 1 1 1 1 1 1 1 1 1]]\n"
     ]
    },
    {
     "data": {
      "image/png": "[encoded data removed]",
      "text/plain": [
       "<Figure size 432x288 with 1 Axes>"
      ]
     },
     "metadata": {},
     "output_type": "display_data"
    }
   ],
   "source": [
    "# Our data. Converting from data frames to arrays for the mesh.\n",
    "X = np.array(X)\n",
    "Y = np.array(Y)\n",
    "\n",
    "# Mesh size.\n",
    "h = 4.0\n",
    "\n",
    "# Plot the decision boundary. We assign a color to each point in the mesh.\n",
    "#Define boundaries of the mesh\n",
    "x_min = X[:, 0].min() - .5\n",
    "print(\"x_min:\", x_min)\n",
    "x_max = X[:, 0].max() + .5\n",
    "print(\"x_max:\", x_max)\n",
    "y_min = X[:, 1].min() - .5\n",
    "print(\"y_min:\", y_min)\n",
    "y_max = X[:, 1].max() + .5\n",
    "print(\"y_max:\", y_max)\n",
    "\n",
    "print(np.arange(x_min, x_max, h))\n",
    "\n",
    "print(np.arange(y_min, y_max, h))\n",
    "\n",
    "#Define x and y steps for the mesh\n",
    "xx, yy = np.meshgrid( # Combines the \n",
    "    np.arange(x_min, x_max, h),#Define x steps for the mesh\n",
    "    np.arange(y_min, y_max, h)#Define y steps for the mesh\n",
    ")\n",
    "\n",
    "print('xx:', xx)\n",
    "print('xx.shape:', xx.shape)\n",
    "print('yy:',yy)\n",
    "print('yy.shape:', yy.shape)\n",
    "\n",
    "\n",
    "Z = neighbors.predict(np.c_[xx.ravel(), yy.ravel()]) #calculates the probability for each x,y combi\n",
    "print(\"np.c_[xx.ravel(), yy.ravel()]\",np.c_[xx.ravel(), yy.ravel()]) #np_c Translates slice objects to concatenation along the second axis.\n",
    "print(\"Z:\",Z)\n",
    "\n",
    "# Put the result into a color plot.\n",
    "print(\"Z.shape before\", Z.shape)\n",
    "Z = Z.reshape(xx.shape) # Brings the probabilities back in shape for the grid\n",
    "print(\"xx.shape\", xx.shape)\n",
    "print(\"Z.shape after\", Z.shape)\n",
    "print(\"Z.reshaped:\",Z)\n",
    "\n",
    "plt.figure(1, figsize=(6, 4))\n",
    "plt.set_cmap(plt.cm.Paired)\n",
    "plt.pcolormesh(xx, yy, Z)\n",
    "\n",
    "# Add the training points to the plot.\n",
    "plt.scatter(X[:, 0], X[:, 1], c=Y)\n",
    "plt.xlabel('Loudness')\n",
    "plt.ylabel('Duration')\n",
    "plt.title('Mesh visualization')\n",
    "plt.legend(['Jazz','Rock'])\n",
    "\n",
    "plt.xlim(xx.min(), xx.max())\n",
    "plt.ylim(yy.min(), yy.max())\n",
    "\n",
    "plt.show()"
   ]
  },
  {
   "cell_type": "markdown",
   "metadata": {},
   "source": [
    "Looking at the visualization above, any new point that fell within a blue area would be predicted to be jazz, and any point that fell within a brown area would be predicted to be rock.\n",
    "\n",
    "The boundaries above are strangly jagged (\"kantig\") here, and we'll get into that in more detail in the next lesson.\n",
    "\n",
    "Also note that the visualization isn't completely continuous. There are an infinite number of points in this space, and we can't calculate the value for each one. That's where the mesh comes in. We set our mesh size (`h = 4.0`) to 4.0 above, which means we calculate the value for each point in a grid where the points are spaced 4.0 away from each other.\n",
    "\n",
    "You can make the mesh size smaller to get a more continuous visualization, but at the cost of a more computationally demanding calculation. In the cell below, recreate the plot above with a mesh size of `10.0`. Then reduce the mesh size until you get a plot that looks good but still renders in a reasonable amount of time. When do you get a visualization that looks acceptably continuous? When do you start to get a noticeable delay?"
   ]
  },
  {
   "cell_type": "code",
   "execution_count": 6,
   "metadata": {},
   "outputs": [],
   "source": [
    "# Play with different mesh sizes here.\n",
    "# Our data. Converting from data frames to arrays for the mesh.\n",
    "X = np.array(X)\n",
    "Y = np.array(Y)\n",
    "\n",
    "# Mesh size.\n",
    "h = 4.0\n",
    "\n",
    "def KNNmodel_with_mesh(X,Y,h):\n",
    "    # Plot the decision boundary. We assign a color to each point in the mesh.\n",
    "    #Define boundaries of the mesh\n",
    "    x_min = X[:, 0].min() - .5\n",
    "    x_max = X[:, 0].max() + .5\n",
    "    y_min = X[:, 1].min() - .5\n",
    "    y_max = X[:, 1].max() + .5\n",
    "\n",
    "#Define x and y steps for the mesh\n",
    "    xx, yy = np.meshgrid( # Combines the \n",
    "        np.arange(x_min, x_max, h),#Define x steps for the mesh\n",
    "        np.arange(y_min, y_max, h)#Define y steps for the mesh\n",
    "    )\n",
    "\n",
    "\n",
    "    Z = neighbors.predict(np.c_[xx.ravel(), yy.ravel()]) #calculates the probability for each x,y combi\n",
    "\n",
    "\n",
    "    # Put the result into a color plot.\n",
    "    Z = Z.reshape(xx.shape) # Brings the probabilities back in shape for the grid\n",
    "\n",
    "\n",
    "    plt.figure(1, figsize=(6, 4))\n",
    "    plt.set_cmap(plt.cm.Paired)\n",
    "    plt.pcolormesh(xx, yy, Z)\n",
    "\n",
    "    # Add the training points to the plot.\n",
    "    plt.scatter(X[:, 0], X[:, 1], c=Y)\n",
    "    plt.xlabel('Loudness')\n",
    "    plt.ylabel('Duration')\n",
    "    plt.title('Mesh visualization')\n",
    "    plt.legend(['Jazz','Rock'])\n",
    "\n",
    "    plt.xlim(xx.min(), xx.max())\n",
    "    plt.ylim(yy.min(), yy.max())\n",
    "\n",
    "    plt.show()"
   ]
  },
  {
   "cell_type": "code",
   "execution_count": 7,
   "metadata": {},
   "outputs": [
    {
     "data": {
      "image/png": "[encoded data removed]",
      "text/plain": [
       "<Figure size 432x288 with 1 Axes>"
      ]
     },
     "metadata": {},
     "output_type": "display_data"
    }
   ],
   "source": [
    "KNNmodel_with_mesh(X,Y,10)"
   ]
  },
  {
   "cell_type": "code",
   "execution_count": 8,
   "metadata": {},
   "outputs": [
    {
     "data": {
      "image/png": "[encoded data removed]",
      "text/plain": [
       "<Figure size 432x288 with 1 Axes>"
      ]
     },
     "metadata": {},
     "output_type": "display_data"
    }
   ],
   "source": [
    "KNNmodel_with_mesh(X,Y,0.2) # h= 0,2 looks pretty smooth , h= 0.02 runs already several minutes... "
   ]
  },
  {
   "cell_type": "markdown",
   "metadata": {
    "run_control": {
     "frozen": false,
     "read_only": false
    }
   },
   "source": [
    "Now you've built a KNN model!\n",
    "\n",
    "## Challenge: Implement the Nearest Neighbor algorithm \n",
    "\n",
    "The Nearest Neighbor algorithm is extremely simple. So simple, in fact, that you should be able to build it yourself from scratch using the Python you already know. Code a Nearest Neighbors algorithm that works for two dimensional data. You can use either arrays or dataframes to do this. Test it against the SKLearn package on the music dataset from above to ensure that it's correct. The goal here is to confirm your understanding of the model and continue to practice your Python skills. We're just expecting a brute force method here. After doing this, look up \"ball tree\" methods to see a more performant algorithm design."
   ]
  },
  {
   "cell_type": "code",
   "execution_count": 38,
   "metadata": {},
   "outputs": [],
   "source": [
    "# Your nearest neighbor algorithm here.\n",
    "def NRs_NearestNeighbor(data,output,query):\n",
    "    import math\n",
    "    \n",
    "    def cal_dist(x,w): #Calculate euclidiean distance\n",
    "        dist=[]\n",
    "        for i in range(2):\n",
    "            #print(x[i])\n",
    "            #print(w[i])\n",
    "            dist.append((x[i]-w[i])**2)\n",
    "        return math.sqrt(sum(dist))\n",
    "\n",
    "    #print(data.shape[0])\n",
    "    # get a list with a distance of the query to all other data points    \n",
    "    Distances=[]\n",
    "    for i in range(data.shape[0]):\n",
    "        Distances.append(cal_dist(query, data.iloc[i])) \n",
    "\n",
    "    data['DistToQuery']=Distances\n",
    "\n",
    "    NearestNeighborDist=data['DistToQuery'].min()\n",
    "\n",
    "    Index= data.index[data['DistToQuery']==NearestNeighborDist].tolist() # lookup the index\n",
    "\n",
    "    return output[Index[0]]"
   ]
  },
  {
   "cell_type": "code",
   "execution_count": 40,
   "metadata": {},
   "outputs": [
    {
     "data": {
      "text/plain": [
       "1"
      ]
     },
     "execution_count": 40,
     "metadata": {},
     "output_type": "execute_result"
    }
   ],
   "source": [
    "data= music[['loudness','duration']]\n",
    "output= music['jazz']\n",
    "query=[24,90]\n",
    "\n",
    "NRs_NearestNeighbor(data,output,query)"
   ]
  }
 ],
 "metadata": {
  "hide_input": false,
  "kernelspec": {
   "display_name": "Python 3",
   "language": "python",
   "name": "python3"
  },
  "language_info": {
   "codemirror_mode": {
    "name": "ipython",
    "version": 3
   },
   "file_extension": ".py",
   "mimetype": "text/x-python",
   "name": "python",
   "nbconvert_exporter": "python",
   "pygments_lexer": "ipython3",
   "version": "3.6.5"
  },
  "toc": {
   "base_numbering": 1,
   "nav_menu": {
    "height": "86px",
    "width": "252px"
   },
   "number_sections": true,
   "sideBar": true,
   "skip_h1_title": false,
   "title_cell": "Table of Contents",
   "title_sidebar": "Contents",
   "toc_cell": false,
   "toc_position": {},
   "toc_section_display": "block",
   "toc_window_display": false
  },
  "varInspector": {
   "cols": {
    "lenName": 16,
    "lenType": 16,
    "lenVar": 40
   },
   "kernels_config": {
    "python": {
     "delete_cmd_postfix": "",
     "delete_cmd_prefix": "del ",
     "library": "var_list.py",
     "varRefreshCmd": "print(var_dic_list())"
    },
    "r": {
     "delete_cmd_postfix": ") ",
     "delete_cmd_prefix": "rm(",
     "library": "var_list.r",
     "varRefreshCmd": "cat(var_dic_list()) "
    }
   },
   "oldHeight": 250.222222,
   "position": {
    "height": "40px",
    "left": "1318px",
    "right": "20px",
    "top": "120px",
    "width": "350px"
   },
   "types_to_exclude": [
    "module",
    "function",
    "builtin_function_or_method",
    "instance",
    "_Feature"
   ],
   "varInspector_section_display": "none",
   "window_display": true
  }
 },
 "nbformat": 4,
 "nbformat_minor": 2
}
